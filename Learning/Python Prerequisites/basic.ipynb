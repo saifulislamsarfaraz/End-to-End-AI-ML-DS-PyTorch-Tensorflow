{
 "cells": [
  {
   "cell_type": "code",
   "execution_count": 4,
   "metadata": {},
   "outputs": [],
   "source": [
    "import pandas as pd"
   ]
  },
  {
   "cell_type": "code",
   "execution_count": 7,
   "metadata": {},
   "outputs": [],
   "source": [
    "name = \"Saiful\""
   ]
  },
  {
   "cell_type": "code",
   "execution_count": 8,
   "metadata": {},
   "outputs": [
    {
     "name": "stdout",
     "output_type": "stream",
     "text": [
      " Saiful\n"
     ]
    }
   ],
   "source": [
    "print(\"\", name)"
   ]
  },
  {
   "cell_type": "code",
   "execution_count": 9,
   "metadata": {},
   "outputs": [],
   "source": [
    "variable = 10\n",
    "def function():\n",
    "    print(\"Hello World\")"
   ]
  },
  {
   "cell_type": "code",
   "execution_count": 11,
   "metadata": {},
   "outputs": [
    {
     "name": "stdout",
     "output_type": "stream",
     "text": [
      "10 <class 'int'>\n",
      "Hello World\n"
     ]
    }
   ],
   "source": [
    "var= 10\n",
    "print(var,type(var))\n",
    "print(\"Hello World\")"
   ]
  },
  {
   "cell_type": "code",
   "execution_count": 12,
   "metadata": {},
   "outputs": [
    {
     "name": "stdout",
     "output_type": "stream",
     "text": [
      "False\n"
     ]
    }
   ],
   "source": [
    "is_true = bool()\n",
    "print(is_true)  "
   ]
  },
  {
   "cell_type": "code",
   "execution_count": 13,
   "metadata": {},
   "outputs": [],
   "source": [
    "a = 10"
   ]
  },
  {
   "cell_type": "code",
   "execution_count": 15,
   "metadata": {},
   "outputs": [
    {
     "data": {
      "text/plain": [
       "bool"
      ]
     },
     "execution_count": 15,
     "metadata": {},
     "output_type": "execute_result"
    }
   ],
   "source": [
    "a=10\n",
    "b = 20\n",
    "type(a==b)"
   ]
  },
  {
   "cell_type": "code",
   "execution_count": 16,
   "metadata": {},
   "outputs": [],
   "source": [
    "result = \"Hello\" + str(5)\n"
   ]
  },
  {
   "cell_type": "code",
   "execution_count": 17,
   "metadata": {},
   "outputs": [
    {
     "name": "stdout",
     "output_type": "stream",
     "text": [
      "Hello5\n"
     ]
    }
   ],
   "source": [
    "print(result)"
   ]
  },
  {
   "cell_type": "code",
   "execution_count": 18,
   "metadata": {},
   "outputs": [
    {
     "name": "stdout",
     "output_type": "stream",
     "text": [
      "Hello World\n"
     ]
    }
   ],
   "source": [
    "print(\"Hello World\")"
   ]
  },
  {
   "cell_type": "code",
   "execution_count": 19,
   "metadata": {},
   "outputs": [
    {
     "data": {
      "text/plain": [
       "'HELLO'"
      ]
     },
     "execution_count": 19,
     "metadata": {},
     "output_type": "execute_result"
    }
   ],
   "source": [
    "str = \"Hello\"\n",
    "str.upper()"
   ]
  },
  {
   "cell_type": "code",
   "execution_count": 20,
   "metadata": {},
   "outputs": [
    {
     "data": {
      "text/plain": [
       "<function str.capitalize()>"
      ]
     },
     "execution_count": 20,
     "metadata": {},
     "output_type": "execute_result"
    }
   ],
   "source": [
    "str.capitalize"
   ]
  },
  {
   "cell_type": "code",
   "execution_count": 21,
   "metadata": {},
   "outputs": [
    {
     "data": {
      "text/plain": [
       "'Hello'"
      ]
     },
     "execution_count": 21,
     "metadata": {},
     "output_type": "execute_result"
    }
   ],
   "source": [
    "str.capitalize()"
   ]
  },
  {
   "cell_type": "code",
   "execution_count": 24,
   "metadata": {},
   "outputs": [],
   "source": [
    "X = False\n",
    "Y = True\n",
    "result = X and Y\n"
   ]
  },
  {
   "cell_type": "code",
   "execution_count": 25,
   "metadata": {},
   "outputs": [
    {
     "name": "stdout",
     "output_type": "stream",
     "text": [
      "False\n"
     ]
    }
   ],
   "source": [
    "print(result)"
   ]
  },
  {
   "cell_type": "code",
   "execution_count": 26,
   "metadata": {},
   "outputs": [],
   "source": [
    "result = X or Y"
   ]
  },
  {
   "cell_type": "code",
   "execution_count": 27,
   "metadata": {},
   "outputs": [
    {
     "name": "stdout",
     "output_type": "stream",
     "text": [
      "True\n"
     ]
    }
   ],
   "source": [
    "print(result)"
   ]
  },
  {
   "cell_type": "code",
   "execution_count": 31,
   "metadata": {},
   "outputs": [
    {
     "data": {
      "text/plain": [
       "False"
      ]
     },
     "execution_count": 31,
     "metadata": {},
     "output_type": "execute_result"
    }
   ],
   "source": [
    "X = True\n",
    "not X"
   ]
  },
  {
   "cell_type": "code",
   "execution_count": 33,
   "metadata": {},
   "outputs": [
    {
     "name": "stdout",
     "output_type": "stream",
     "text": [
      "The number is 2\n"
     ]
    }
   ],
   "source": [
    "num = int(input(\"Enter the number\"))\n",
    "\n",
    "if num>=0:\n",
    "    print(\"The number is\", num)"
   ]
  },
  {
   "cell_type": "code",
   "execution_count": 39,
   "metadata": {},
   "outputs": [
    {
     "name": "stdout",
     "output_type": "stream",
     "text": [
      "2025 is not a leap year\n"
     ]
    }
   ],
   "source": [
    "year = int(input(\"Enter the year\"))\n",
    "\n",
    "if year%4==0:\n",
    "    if year%100==0:\n",
    "        if year%400==0:\n",
    "            print(year,\"is a leap year\")\n",
    "        else:\n",
    "            print(year,\"is not leap year\")\n",
    "\n",
    "    else:\n",
    "        print(year,\"is a leap year\")\n",
    "else:\n",
    "    print(year,\"is not a leap year\")"
   ]
  },
  {
   "cell_type": "code",
   "execution_count": 41,
   "metadata": {},
   "outputs": [
    {
     "name": "stdout",
     "output_type": "stream",
     "text": [
      "0\n",
      "1\n",
      "2\n",
      "3\n",
      "4\n"
     ]
    }
   ],
   "source": [
    "for i in range(10):\n",
    "    if i ==5:\n",
    "        break\n",
    "    print(i)"
   ]
  },
  {
   "cell_type": "code",
   "execution_count": 43,
   "metadata": {},
   "outputs": [
    {
     "name": "stdout",
     "output_type": "stream",
     "text": [
      "0\n",
      "1\n",
      "2\n",
      "3\n",
      "4\n",
      "5\n"
     ]
    }
   ],
   "source": [
    "for i in range(10):\n",
    "    if i == 6:\n",
    "        break\n",
    "    print(i)"
   ]
  },
  {
   "cell_type": "code",
   "execution_count": 44,
   "metadata": {},
   "outputs": [
    {
     "name": "stdout",
     "output_type": "stream",
     "text": [
      "0\n",
      "1\n",
      "2\n",
      "3\n",
      "4\n"
     ]
    }
   ],
   "source": [
    "\n",
    "for i in range(5):\n",
    "    if i == 3:\n",
    "        pass\n",
    "    print(i)"
   ]
  },
  {
   "cell_type": "code",
   "execution_count": 45,
   "metadata": {},
   "outputs": [
    {
     "name": "stdout",
     "output_type": "stream",
     "text": [
      "i:0 and j:0\n",
      "i:0 and j:1\n",
      "i:1 and j:0\n",
      "i:1 and j:1\n",
      "i:2 and j:0\n",
      "i:2 and j:1\n"
     ]
    }
   ],
   "source": [
    "for i in range(3):\n",
    "    for j in range(2):\n",
    "        print(f\"i:{i} and j:{j}\")"
   ]
  },
  {
   "cell_type": "code",
   "execution_count": 46,
   "metadata": {},
   "outputs": [
    {
     "name": "stdout",
     "output_type": "stream",
     "text": [
      "i: 0 and j: 0\n",
      "i: 0 and j: 1\n",
      "i: 0 and j: 2\n",
      "i: 0 and j: 3\n",
      "i: 0 and j: 4\n",
      "i: 1 and j: 0\n",
      "i: 1 and j: 1\n",
      "i: 1 and j: 2\n",
      "i: 1 and j: 3\n",
      "i: 1 and j: 4\n",
      "i: 2 and j: 0\n",
      "i: 2 and j: 1\n",
      "i: 2 and j: 2\n",
      "i: 2 and j: 3\n",
      "i: 2 and j: 4\n",
      "i: 3 and j: 0\n",
      "i: 3 and j: 1\n",
      "i: 3 and j: 2\n",
      "i: 3 and j: 3\n",
      "i: 3 and j: 4\n",
      "i: 4 and j: 0\n",
      "i: 4 and j: 1\n",
      "i: 4 and j: 2\n",
      "i: 4 and j: 3\n",
      "i: 4 and j: 4\n"
     ]
    }
   ],
   "source": [
    "for i in range(5):\n",
    "    for j in range(5):\n",
    "        print(f\"i: {i} and j: {j}\")"
   ]
  },
  {
   "cell_type": "code",
   "execution_count": 54,
   "metadata": {},
   "outputs": [
    {
     "name": "stdout",
     "output_type": "stream",
     "text": [
      "Sum of first 10 natural Number 55\n"
     ]
    }
   ],
   "source": [
    "n = 10\n",
    "sum = 0\n",
    "count = 1\n",
    "\n",
    "while count<=n:\n",
    "    sum = sum + count\n",
    "    count = count + 1\n",
    "print(f\"Sum of first {n} natural Number\", sum)\n",
    "    "
   ]
  },
  {
   "cell_type": "code",
   "execution_count": 55,
   "metadata": {},
   "outputs": [
    {
     "name": "stdout",
     "output_type": "stream",
     "text": [
      "10 and 20 and 30\n"
     ]
    }
   ],
   "source": [
    "a = 10\n",
    "b = 20 \n",
    "c = 30\n",
    "print(f\"{a} and {b} and {c}\")"
   ]
  },
  {
   "cell_type": "code",
   "execution_count": 60,
   "metadata": {},
   "outputs": [
    {
     "name": "stdout",
     "output_type": "stream",
     "text": [
      "3 is even number\n",
      "5 is even number\n",
      "5 is even number\n",
      "5 is even number\n",
      "7 is even number\n",
      "7 is even number\n",
      "7 is even number\n",
      "7 is even number\n",
      "7 is even number\n",
      "9 is even number\n",
      "11 is even number\n",
      "11 is even number\n",
      "11 is even number\n",
      "11 is even number\n",
      "11 is even number\n",
      "11 is even number\n",
      "11 is even number\n",
      "11 is even number\n",
      "11 is even number\n",
      "13 is even number\n",
      "13 is even number\n",
      "13 is even number\n",
      "13 is even number\n",
      "13 is even number\n",
      "13 is even number\n",
      "13 is even number\n",
      "13 is even number\n",
      "13 is even number\n",
      "13 is even number\n",
      "13 is even number\n",
      "15 is even number\n",
      "17 is even number\n",
      "17 is even number\n",
      "17 is even number\n",
      "17 is even number\n",
      "17 is even number\n",
      "17 is even number\n",
      "17 is even number\n",
      "17 is even number\n",
      "17 is even number\n",
      "17 is even number\n",
      "17 is even number\n",
      "17 is even number\n",
      "17 is even number\n",
      "17 is even number\n",
      "17 is even number\n",
      "19 is even number\n",
      "19 is even number\n",
      "19 is even number\n",
      "19 is even number\n",
      "19 is even number\n",
      "19 is even number\n",
      "19 is even number\n",
      "19 is even number\n",
      "19 is even number\n",
      "19 is even number\n",
      "19 is even number\n",
      "19 is even number\n",
      "19 is even number\n",
      "19 is even number\n",
      "19 is even number\n",
      "19 is even number\n",
      "19 is even number\n",
      "21 is even number\n",
      "23 is even number\n",
      "23 is even number\n",
      "23 is even number\n",
      "23 is even number\n",
      "23 is even number\n",
      "23 is even number\n",
      "23 is even number\n",
      "23 is even number\n",
      "23 is even number\n",
      "23 is even number\n",
      "23 is even number\n",
      "23 is even number\n",
      "23 is even number\n",
      "23 is even number\n",
      "23 is even number\n",
      "23 is even number\n",
      "23 is even number\n",
      "23 is even number\n",
      "23 is even number\n",
      "23 is even number\n",
      "23 is even number\n",
      "25 is even number\n",
      "25 is even number\n",
      "25 is even number\n",
      "27 is even number\n",
      "29 is even number\n",
      "29 is even number\n",
      "29 is even number\n",
      "29 is even number\n",
      "29 is even number\n",
      "29 is even number\n",
      "29 is even number\n",
      "29 is even number\n",
      "29 is even number\n",
      "29 is even number\n",
      "29 is even number\n",
      "29 is even number\n",
      "29 is even number\n",
      "29 is even number\n",
      "29 is even number\n",
      "29 is even number\n",
      "29 is even number\n",
      "29 is even number\n",
      "29 is even number\n",
      "29 is even number\n",
      "29 is even number\n",
      "29 is even number\n",
      "29 is even number\n",
      "29 is even number\n",
      "29 is even number\n",
      "29 is even number\n",
      "29 is even number\n",
      "31 is even number\n",
      "31 is even number\n",
      "31 is even number\n",
      "31 is even number\n",
      "31 is even number\n",
      "31 is even number\n",
      "31 is even number\n",
      "31 is even number\n",
      "31 is even number\n",
      "31 is even number\n",
      "31 is even number\n",
      "31 is even number\n",
      "31 is even number\n",
      "31 is even number\n",
      "31 is even number\n",
      "31 is even number\n",
      "31 is even number\n",
      "31 is even number\n",
      "31 is even number\n",
      "31 is even number\n",
      "31 is even number\n",
      "31 is even number\n",
      "31 is even number\n",
      "31 is even number\n",
      "31 is even number\n",
      "31 is even number\n",
      "31 is even number\n",
      "31 is even number\n",
      "31 is even number\n",
      "33 is even number\n",
      "35 is even number\n",
      "35 is even number\n",
      "35 is even number\n",
      "37 is even number\n",
      "37 is even number\n",
      "37 is even number\n",
      "37 is even number\n",
      "37 is even number\n",
      "37 is even number\n",
      "37 is even number\n",
      "37 is even number\n",
      "37 is even number\n",
      "37 is even number\n",
      "37 is even number\n",
      "37 is even number\n",
      "37 is even number\n",
      "37 is even number\n",
      "37 is even number\n",
      "37 is even number\n",
      "37 is even number\n",
      "37 is even number\n",
      "37 is even number\n",
      "37 is even number\n",
      "37 is even number\n",
      "37 is even number\n",
      "37 is even number\n",
      "37 is even number\n",
      "37 is even number\n",
      "37 is even number\n",
      "37 is even number\n",
      "37 is even number\n",
      "37 is even number\n",
      "37 is even number\n",
      "37 is even number\n",
      "37 is even number\n",
      "37 is even number\n",
      "37 is even number\n",
      "37 is even number\n",
      "39 is even number\n",
      "41 is even number\n",
      "41 is even number\n",
      "41 is even number\n",
      "41 is even number\n",
      "41 is even number\n",
      "41 is even number\n",
      "41 is even number\n",
      "41 is even number\n",
      "41 is even number\n",
      "41 is even number\n",
      "41 is even number\n",
      "41 is even number\n",
      "41 is even number\n",
      "41 is even number\n",
      "41 is even number\n",
      "41 is even number\n",
      "41 is even number\n",
      "41 is even number\n",
      "41 is even number\n",
      "41 is even number\n",
      "41 is even number\n",
      "41 is even number\n",
      "41 is even number\n",
      "41 is even number\n",
      "41 is even number\n",
      "41 is even number\n",
      "41 is even number\n",
      "41 is even number\n",
      "41 is even number\n",
      "41 is even number\n",
      "41 is even number\n",
      "41 is even number\n",
      "41 is even number\n",
      "41 is even number\n",
      "41 is even number\n",
      "41 is even number\n",
      "41 is even number\n",
      "41 is even number\n",
      "41 is even number\n",
      "43 is even number\n",
      "43 is even number\n",
      "43 is even number\n",
      "43 is even number\n",
      "43 is even number\n",
      "43 is even number\n",
      "43 is even number\n",
      "43 is even number\n",
      "43 is even number\n",
      "43 is even number\n",
      "43 is even number\n",
      "43 is even number\n",
      "43 is even number\n",
      "43 is even number\n",
      "43 is even number\n",
      "43 is even number\n",
      "43 is even number\n",
      "43 is even number\n",
      "43 is even number\n",
      "43 is even number\n",
      "43 is even number\n",
      "43 is even number\n",
      "43 is even number\n",
      "43 is even number\n",
      "43 is even number\n",
      "43 is even number\n",
      "43 is even number\n",
      "43 is even number\n",
      "43 is even number\n",
      "43 is even number\n",
      "43 is even number\n",
      "43 is even number\n",
      "43 is even number\n",
      "43 is even number\n",
      "43 is even number\n",
      "43 is even number\n",
      "43 is even number\n",
      "43 is even number\n",
      "43 is even number\n",
      "43 is even number\n",
      "43 is even number\n",
      "45 is even number\n",
      "47 is even number\n",
      "47 is even number\n",
      "47 is even number\n",
      "47 is even number\n",
      "47 is even number\n",
      "47 is even number\n",
      "47 is even number\n",
      "47 is even number\n",
      "47 is even number\n",
      "47 is even number\n",
      "47 is even number\n",
      "47 is even number\n",
      "47 is even number\n",
      "47 is even number\n",
      "47 is even number\n",
      "47 is even number\n",
      "47 is even number\n",
      "47 is even number\n",
      "47 is even number\n",
      "47 is even number\n",
      "47 is even number\n",
      "47 is even number\n",
      "47 is even number\n",
      "47 is even number\n",
      "47 is even number\n",
      "47 is even number\n",
      "47 is even number\n",
      "47 is even number\n",
      "47 is even number\n",
      "47 is even number\n",
      "47 is even number\n",
      "47 is even number\n",
      "47 is even number\n",
      "47 is even number\n",
      "47 is even number\n",
      "47 is even number\n",
      "47 is even number\n",
      "47 is even number\n",
      "47 is even number\n",
      "47 is even number\n",
      "47 is even number\n",
      "47 is even number\n",
      "47 is even number\n",
      "47 is even number\n",
      "47 is even number\n",
      "49 is even number\n",
      "49 is even number\n",
      "49 is even number\n",
      "49 is even number\n",
      "49 is even number\n",
      "51 is even number\n",
      "53 is even number\n",
      "53 is even number\n",
      "53 is even number\n",
      "53 is even number\n",
      "53 is even number\n",
      "53 is even number\n",
      "53 is even number\n",
      "53 is even number\n",
      "53 is even number\n",
      "53 is even number\n",
      "53 is even number\n",
      "53 is even number\n",
      "53 is even number\n",
      "53 is even number\n",
      "53 is even number\n",
      "53 is even number\n",
      "53 is even number\n",
      "53 is even number\n",
      "53 is even number\n",
      "53 is even number\n",
      "53 is even number\n",
      "53 is even number\n",
      "53 is even number\n",
      "53 is even number\n",
      "53 is even number\n",
      "53 is even number\n",
      "53 is even number\n",
      "53 is even number\n",
      "53 is even number\n",
      "53 is even number\n",
      "53 is even number\n",
      "53 is even number\n",
      "53 is even number\n",
      "53 is even number\n",
      "53 is even number\n",
      "53 is even number\n",
      "53 is even number\n",
      "53 is even number\n",
      "53 is even number\n",
      "53 is even number\n",
      "53 is even number\n",
      "53 is even number\n",
      "53 is even number\n",
      "53 is even number\n",
      "53 is even number\n",
      "53 is even number\n",
      "53 is even number\n",
      "53 is even number\n",
      "53 is even number\n",
      "53 is even number\n",
      "53 is even number\n",
      "55 is even number\n",
      "55 is even number\n",
      "55 is even number\n",
      "57 is even number\n",
      "59 is even number\n",
      "59 is even number\n",
      "59 is even number\n",
      "59 is even number\n",
      "59 is even number\n",
      "59 is even number\n",
      "59 is even number\n",
      "59 is even number\n",
      "59 is even number\n",
      "59 is even number\n",
      "59 is even number\n",
      "59 is even number\n",
      "59 is even number\n",
      "59 is even number\n",
      "59 is even number\n",
      "59 is even number\n",
      "59 is even number\n",
      "59 is even number\n",
      "59 is even number\n",
      "59 is even number\n",
      "59 is even number\n",
      "59 is even number\n",
      "59 is even number\n",
      "59 is even number\n",
      "59 is even number\n",
      "59 is even number\n",
      "59 is even number\n",
      "59 is even number\n",
      "59 is even number\n",
      "59 is even number\n",
      "59 is even number\n",
      "59 is even number\n",
      "59 is even number\n",
      "59 is even number\n",
      "59 is even number\n",
      "59 is even number\n",
      "59 is even number\n",
      "59 is even number\n",
      "59 is even number\n",
      "59 is even number\n",
      "59 is even number\n",
      "59 is even number\n",
      "59 is even number\n",
      "59 is even number\n",
      "59 is even number\n",
      "59 is even number\n",
      "59 is even number\n",
      "59 is even number\n",
      "59 is even number\n",
      "59 is even number\n",
      "59 is even number\n",
      "59 is even number\n",
      "59 is even number\n",
      "59 is even number\n",
      "59 is even number\n",
      "59 is even number\n",
      "59 is even number\n",
      "61 is even number\n",
      "61 is even number\n",
      "61 is even number\n",
      "61 is even number\n",
      "61 is even number\n",
      "61 is even number\n",
      "61 is even number\n",
      "61 is even number\n",
      "61 is even number\n",
      "61 is even number\n",
      "61 is even number\n",
      "61 is even number\n",
      "61 is even number\n",
      "61 is even number\n",
      "61 is even number\n",
      "61 is even number\n",
      "61 is even number\n",
      "61 is even number\n",
      "61 is even number\n",
      "61 is even number\n",
      "61 is even number\n",
      "61 is even number\n",
      "61 is even number\n",
      "61 is even number\n",
      "61 is even number\n",
      "61 is even number\n",
      "61 is even number\n",
      "61 is even number\n",
      "61 is even number\n",
      "61 is even number\n",
      "61 is even number\n",
      "61 is even number\n",
      "61 is even number\n",
      "61 is even number\n",
      "61 is even number\n",
      "61 is even number\n",
      "61 is even number\n",
      "61 is even number\n",
      "61 is even number\n",
      "61 is even number\n",
      "61 is even number\n",
      "61 is even number\n",
      "61 is even number\n",
      "61 is even number\n",
      "61 is even number\n",
      "61 is even number\n",
      "61 is even number\n",
      "61 is even number\n",
      "61 is even number\n",
      "61 is even number\n",
      "61 is even number\n",
      "61 is even number\n",
      "61 is even number\n",
      "61 is even number\n",
      "61 is even number\n",
      "61 is even number\n",
      "61 is even number\n",
      "61 is even number\n",
      "61 is even number\n",
      "63 is even number\n",
      "65 is even number\n",
      "65 is even number\n",
      "65 is even number\n",
      "67 is even number\n",
      "67 is even number\n",
      "67 is even number\n",
      "67 is even number\n",
      "67 is even number\n",
      "67 is even number\n",
      "67 is even number\n",
      "67 is even number\n",
      "67 is even number\n",
      "67 is even number\n",
      "67 is even number\n",
      "67 is even number\n",
      "67 is even number\n",
      "67 is even number\n",
      "67 is even number\n",
      "67 is even number\n",
      "67 is even number\n",
      "67 is even number\n",
      "67 is even number\n",
      "67 is even number\n",
      "67 is even number\n",
      "67 is even number\n",
      "67 is even number\n",
      "67 is even number\n",
      "67 is even number\n",
      "67 is even number\n",
      "67 is even number\n",
      "67 is even number\n",
      "67 is even number\n",
      "67 is even number\n",
      "67 is even number\n",
      "67 is even number\n",
      "67 is even number\n",
      "67 is even number\n",
      "67 is even number\n",
      "67 is even number\n",
      "67 is even number\n",
      "67 is even number\n",
      "67 is even number\n",
      "67 is even number\n",
      "67 is even number\n",
      "67 is even number\n",
      "67 is even number\n",
      "67 is even number\n",
      "67 is even number\n",
      "67 is even number\n",
      "67 is even number\n",
      "67 is even number\n",
      "67 is even number\n",
      "67 is even number\n",
      "67 is even number\n",
      "67 is even number\n",
      "67 is even number\n",
      "67 is even number\n",
      "67 is even number\n",
      "67 is even number\n",
      "67 is even number\n",
      "67 is even number\n",
      "67 is even number\n",
      "67 is even number\n",
      "67 is even number\n",
      "67 is even number\n",
      "67 is even number\n",
      "67 is even number\n",
      "67 is even number\n",
      "69 is even number\n",
      "71 is even number\n",
      "71 is even number\n",
      "71 is even number\n",
      "71 is even number\n",
      "71 is even number\n",
      "71 is even number\n",
      "71 is even number\n",
      "71 is even number\n",
      "71 is even number\n",
      "71 is even number\n",
      "71 is even number\n",
      "71 is even number\n",
      "71 is even number\n",
      "71 is even number\n",
      "71 is even number\n",
      "71 is even number\n",
      "71 is even number\n",
      "71 is even number\n",
      "71 is even number\n",
      "71 is even number\n",
      "71 is even number\n",
      "71 is even number\n",
      "71 is even number\n",
      "71 is even number\n",
      "71 is even number\n",
      "71 is even number\n",
      "71 is even number\n",
      "71 is even number\n",
      "71 is even number\n",
      "71 is even number\n",
      "71 is even number\n",
      "71 is even number\n",
      "71 is even number\n",
      "71 is even number\n",
      "71 is even number\n",
      "71 is even number\n",
      "71 is even number\n",
      "71 is even number\n",
      "71 is even number\n",
      "71 is even number\n",
      "71 is even number\n",
      "71 is even number\n",
      "71 is even number\n",
      "71 is even number\n",
      "71 is even number\n",
      "71 is even number\n",
      "71 is even number\n",
      "71 is even number\n",
      "71 is even number\n",
      "71 is even number\n",
      "71 is even number\n",
      "71 is even number\n",
      "71 is even number\n",
      "71 is even number\n",
      "71 is even number\n",
      "71 is even number\n",
      "71 is even number\n",
      "71 is even number\n",
      "71 is even number\n",
      "71 is even number\n",
      "71 is even number\n",
      "71 is even number\n",
      "71 is even number\n",
      "71 is even number\n",
      "71 is even number\n",
      "71 is even number\n",
      "71 is even number\n",
      "71 is even number\n",
      "71 is even number\n",
      "73 is even number\n",
      "73 is even number\n",
      "73 is even number\n",
      "73 is even number\n",
      "73 is even number\n",
      "73 is even number\n",
      "73 is even number\n",
      "73 is even number\n",
      "73 is even number\n",
      "73 is even number\n",
      "73 is even number\n",
      "73 is even number\n",
      "73 is even number\n",
      "73 is even number\n",
      "73 is even number\n",
      "73 is even number\n",
      "73 is even number\n",
      "73 is even number\n",
      "73 is even number\n",
      "73 is even number\n",
      "73 is even number\n",
      "73 is even number\n",
      "73 is even number\n",
      "73 is even number\n",
      "73 is even number\n",
      "73 is even number\n",
      "73 is even number\n",
      "73 is even number\n",
      "73 is even number\n",
      "73 is even number\n",
      "73 is even number\n",
      "73 is even number\n",
      "73 is even number\n",
      "73 is even number\n",
      "73 is even number\n",
      "73 is even number\n",
      "73 is even number\n",
      "73 is even number\n",
      "73 is even number\n",
      "73 is even number\n",
      "73 is even number\n",
      "73 is even number\n",
      "73 is even number\n",
      "73 is even number\n",
      "73 is even number\n",
      "73 is even number\n",
      "73 is even number\n",
      "73 is even number\n",
      "73 is even number\n",
      "73 is even number\n",
      "73 is even number\n",
      "73 is even number\n",
      "73 is even number\n",
      "73 is even number\n",
      "73 is even number\n",
      "73 is even number\n",
      "73 is even number\n",
      "73 is even number\n",
      "73 is even number\n",
      "73 is even number\n",
      "73 is even number\n",
      "73 is even number\n",
      "73 is even number\n",
      "73 is even number\n",
      "73 is even number\n",
      "73 is even number\n",
      "73 is even number\n",
      "73 is even number\n",
      "73 is even number\n",
      "73 is even number\n",
      "73 is even number\n",
      "75 is even number\n",
      "77 is even number\n",
      "77 is even number\n",
      "77 is even number\n",
      "77 is even number\n",
      "77 is even number\n",
      "79 is even number\n",
      "79 is even number\n",
      "79 is even number\n",
      "79 is even number\n",
      "79 is even number\n",
      "79 is even number\n",
      "79 is even number\n",
      "79 is even number\n",
      "79 is even number\n",
      "79 is even number\n",
      "79 is even number\n",
      "79 is even number\n",
      "79 is even number\n",
      "79 is even number\n",
      "79 is even number\n",
      "79 is even number\n",
      "79 is even number\n",
      "79 is even number\n",
      "79 is even number\n",
      "79 is even number\n",
      "79 is even number\n",
      "79 is even number\n",
      "79 is even number\n",
      "79 is even number\n",
      "79 is even number\n",
      "79 is even number\n",
      "79 is even number\n",
      "79 is even number\n",
      "79 is even number\n",
      "79 is even number\n",
      "79 is even number\n",
      "79 is even number\n",
      "79 is even number\n",
      "79 is even number\n",
      "79 is even number\n",
      "79 is even number\n",
      "79 is even number\n",
      "79 is even number\n",
      "79 is even number\n",
      "79 is even number\n",
      "79 is even number\n",
      "79 is even number\n",
      "79 is even number\n",
      "79 is even number\n",
      "79 is even number\n",
      "79 is even number\n",
      "79 is even number\n",
      "79 is even number\n",
      "79 is even number\n",
      "79 is even number\n",
      "79 is even number\n",
      "79 is even number\n",
      "79 is even number\n",
      "79 is even number\n",
      "79 is even number\n",
      "79 is even number\n",
      "79 is even number\n",
      "79 is even number\n",
      "79 is even number\n",
      "79 is even number\n",
      "79 is even number\n",
      "79 is even number\n",
      "79 is even number\n",
      "79 is even number\n",
      "79 is even number\n",
      "79 is even number\n",
      "79 is even number\n",
      "79 is even number\n",
      "79 is even number\n",
      "79 is even number\n",
      "79 is even number\n",
      "79 is even number\n",
      "79 is even number\n",
      "79 is even number\n",
      "79 is even number\n",
      "79 is even number\n",
      "79 is even number\n",
      "81 is even number\n",
      "83 is even number\n",
      "83 is even number\n",
      "83 is even number\n",
      "83 is even number\n",
      "83 is even number\n",
      "83 is even number\n",
      "83 is even number\n",
      "83 is even number\n",
      "83 is even number\n",
      "83 is even number\n",
      "83 is even number\n",
      "83 is even number\n",
      "83 is even number\n",
      "83 is even number\n",
      "83 is even number\n",
      "83 is even number\n",
      "83 is even number\n",
      "83 is even number\n",
      "83 is even number\n",
      "83 is even number\n",
      "83 is even number\n",
      "83 is even number\n",
      "83 is even number\n",
      "83 is even number\n",
      "83 is even number\n",
      "83 is even number\n",
      "83 is even number\n",
      "83 is even number\n",
      "83 is even number\n",
      "83 is even number\n",
      "83 is even number\n",
      "83 is even number\n",
      "83 is even number\n",
      "83 is even number\n",
      "83 is even number\n",
      "83 is even number\n",
      "83 is even number\n",
      "83 is even number\n",
      "83 is even number\n",
      "83 is even number\n",
      "83 is even number\n",
      "83 is even number\n",
      "83 is even number\n",
      "83 is even number\n",
      "83 is even number\n",
      "83 is even number\n",
      "83 is even number\n",
      "83 is even number\n",
      "83 is even number\n",
      "83 is even number\n",
      "83 is even number\n",
      "83 is even number\n",
      "83 is even number\n",
      "83 is even number\n",
      "83 is even number\n",
      "83 is even number\n",
      "83 is even number\n",
      "83 is even number\n",
      "83 is even number\n",
      "83 is even number\n",
      "83 is even number\n",
      "83 is even number\n",
      "83 is even number\n",
      "83 is even number\n",
      "83 is even number\n",
      "83 is even number\n",
      "83 is even number\n",
      "83 is even number\n",
      "83 is even number\n",
      "83 is even number\n",
      "83 is even number\n",
      "83 is even number\n",
      "83 is even number\n",
      "83 is even number\n",
      "83 is even number\n",
      "83 is even number\n",
      "83 is even number\n",
      "83 is even number\n",
      "83 is even number\n",
      "83 is even number\n",
      "83 is even number\n",
      "85 is even number\n",
      "85 is even number\n",
      "85 is even number\n",
      "87 is even number\n",
      "89 is even number\n",
      "89 is even number\n",
      "89 is even number\n",
      "89 is even number\n",
      "89 is even number\n",
      "89 is even number\n",
      "89 is even number\n",
      "89 is even number\n",
      "89 is even number\n",
      "89 is even number\n",
      "89 is even number\n",
      "89 is even number\n",
      "89 is even number\n",
      "89 is even number\n",
      "89 is even number\n",
      "89 is even number\n",
      "89 is even number\n",
      "89 is even number\n",
      "89 is even number\n",
      "89 is even number\n",
      "89 is even number\n",
      "89 is even number\n",
      "89 is even number\n",
      "89 is even number\n",
      "89 is even number\n",
      "89 is even number\n",
      "89 is even number\n",
      "89 is even number\n",
      "89 is even number\n",
      "89 is even number\n",
      "89 is even number\n",
      "89 is even number\n",
      "89 is even number\n",
      "89 is even number\n",
      "89 is even number\n",
      "89 is even number\n",
      "89 is even number\n",
      "89 is even number\n",
      "89 is even number\n",
      "89 is even number\n",
      "89 is even number\n",
      "89 is even number\n",
      "89 is even number\n",
      "89 is even number\n",
      "89 is even number\n",
      "89 is even number\n",
      "89 is even number\n",
      "89 is even number\n",
      "89 is even number\n",
      "89 is even number\n",
      "89 is even number\n",
      "89 is even number\n",
      "89 is even number\n",
      "89 is even number\n",
      "89 is even number\n",
      "89 is even number\n",
      "89 is even number\n",
      "89 is even number\n",
      "89 is even number\n",
      "89 is even number\n",
      "89 is even number\n",
      "89 is even number\n",
      "89 is even number\n",
      "89 is even number\n",
      "89 is even number\n",
      "89 is even number\n",
      "89 is even number\n",
      "89 is even number\n",
      "89 is even number\n",
      "89 is even number\n",
      "89 is even number\n",
      "89 is even number\n",
      "89 is even number\n",
      "89 is even number\n",
      "89 is even number\n",
      "89 is even number\n",
      "89 is even number\n",
      "89 is even number\n",
      "89 is even number\n",
      "89 is even number\n",
      "89 is even number\n",
      "89 is even number\n",
      "89 is even number\n",
      "89 is even number\n",
      "89 is even number\n",
      "89 is even number\n",
      "89 is even number\n",
      "91 is even number\n",
      "91 is even number\n",
      "91 is even number\n",
      "91 is even number\n",
      "91 is even number\n",
      "93 is even number\n",
      "95 is even number\n",
      "95 is even number\n",
      "95 is even number\n",
      "97 is even number\n",
      "97 is even number\n",
      "97 is even number\n",
      "97 is even number\n",
      "97 is even number\n",
      "97 is even number\n",
      "97 is even number\n",
      "97 is even number\n",
      "97 is even number\n",
      "97 is even number\n",
      "97 is even number\n",
      "97 is even number\n",
      "97 is even number\n",
      "97 is even number\n",
      "97 is even number\n",
      "97 is even number\n",
      "97 is even number\n",
      "97 is even number\n",
      "97 is even number\n",
      "97 is even number\n",
      "97 is even number\n",
      "97 is even number\n",
      "97 is even number\n",
      "97 is even number\n",
      "97 is even number\n",
      "97 is even number\n",
      "97 is even number\n",
      "97 is even number\n",
      "97 is even number\n",
      "97 is even number\n",
      "97 is even number\n",
      "97 is even number\n",
      "97 is even number\n",
      "97 is even number\n",
      "97 is even number\n",
      "97 is even number\n",
      "97 is even number\n",
      "97 is even number\n",
      "97 is even number\n",
      "97 is even number\n",
      "97 is even number\n",
      "97 is even number\n",
      "97 is even number\n",
      "97 is even number\n",
      "97 is even number\n",
      "97 is even number\n",
      "97 is even number\n",
      "97 is even number\n",
      "97 is even number\n",
      "97 is even number\n",
      "97 is even number\n",
      "97 is even number\n",
      "97 is even number\n",
      "97 is even number\n",
      "97 is even number\n",
      "97 is even number\n",
      "97 is even number\n",
      "97 is even number\n",
      "97 is even number\n",
      "97 is even number\n",
      "97 is even number\n",
      "97 is even number\n",
      "97 is even number\n",
      "97 is even number\n",
      "97 is even number\n",
      "97 is even number\n",
      "97 is even number\n",
      "97 is even number\n",
      "97 is even number\n",
      "97 is even number\n",
      "97 is even number\n",
      "97 is even number\n",
      "97 is even number\n",
      "97 is even number\n",
      "97 is even number\n",
      "97 is even number\n",
      "97 is even number\n",
      "97 is even number\n",
      "97 is even number\n",
      "97 is even number\n",
      "97 is even number\n",
      "97 is even number\n",
      "97 is even number\n",
      "97 is even number\n",
      "97 is even number\n",
      "97 is even number\n",
      "97 is even number\n",
      "97 is even number\n",
      "97 is even number\n",
      "97 is even number\n",
      "97 is even number\n",
      "97 is even number\n",
      "97 is even number\n",
      "97 is even number\n",
      "97 is even number\n",
      "99 is even number\n"
     ]
    }
   ],
   "source": [
    "for num in range(1,101):\n",
    "    if num>1:\n",
    "        for i in range(2,num):\n",
    "            if num%i==0:\n",
    "                break\n",
    "            else:\n",
    "                print(f\"{num} is even number\")"
   ]
  },
  {
   "cell_type": "code",
   "execution_count": 61,
   "metadata": {},
   "outputs": [],
   "source": [
    "to_do_list = ['Buy Groceries', \"Clean the house\", \"Pay bills\"]\n",
    "\n",
    "to_do_list.append(\"Schedule Meeting\")\n",
    "to_do_list.append(\"Go for a Run\")\n",
    "\n",
    "to_do_list.remove(\"Clean the house\")"
   ]
  },
  {
   "cell_type": "code",
   "execution_count": 68,
   "metadata": {},
   "outputs": [],
   "source": [
    "sum = 10"
   ]
  },
  {
   "cell_type": "code",
   "execution_count": 72,
   "metadata": {},
   "outputs": [
    {
     "name": "stdout",
     "output_type": "stream",
     "text": [
      "Positive Feedback Count: 2\n",
      " - Great Service!\n",
      " - Very Satisfied\n",
      " - Could be better\n",
      " - Excellent Experience\n",
      " - Not Happy with the service\n"
     ]
    }
   ],
   "source": [
    "import builtins\n",
    "feedback = [\"Great Service!\", \"Very Satisfied\", \"Could be better\", \"Excellent Experience\"]\n",
    "feedback.append(\"Not Happy with the service\")\n",
    "\n",
    "positive_feedback_count = builtins.sum(1 for comment in feedback if \"great\" in comment.lower() or \"excellent\" in comment.lower())\n",
    "print(f\"Positive Feedback Count: {positive_feedback_count}\")\n",
    "\n",
    "for comment in feedback:\n",
    "    print(f\" - {comment}\")"
   ]
  },
  {
   "cell_type": "code",
   "execution_count": 73,
   "metadata": {},
   "outputs": [],
   "source": [
    "my_set = {1,2,3,4,5}\n"
   ]
  },
  {
   "cell_type": "code",
   "execution_count": 74,
   "metadata": {},
   "outputs": [
    {
     "name": "stdout",
     "output_type": "stream",
     "text": [
      "{1, 2, 3, 4, 5}\n"
     ]
    }
   ],
   "source": [
    "print(my_set)"
   ]
  },
  {
   "cell_type": "code",
   "execution_count": 75,
   "metadata": {},
   "outputs": [
    {
     "name": "stdout",
     "output_type": "stream",
     "text": [
      "{1, 2, 3, 4, 5}\n"
     ]
    }
   ],
   "source": [
    "print(my_set)"
   ]
  },
  {
   "cell_type": "code",
   "execution_count": 76,
   "metadata": {},
   "outputs": [
    {
     "name": "stdout",
     "output_type": "stream",
     "text": [
      "<class 'set'>\n"
     ]
    }
   ],
   "source": [
    "print(type(my_set))"
   ]
  },
  {
   "cell_type": "code",
   "execution_count": 77,
   "metadata": {},
   "outputs": [],
   "source": [
    "my_set.remove(3)"
   ]
  },
  {
   "cell_type": "code",
   "execution_count": 78,
   "metadata": {},
   "outputs": [
    {
     "data": {
      "text/plain": [
       "{1, 2, 4, 5}"
      ]
     },
     "execution_count": 78,
     "metadata": {},
     "output_type": "execute_result"
    }
   ],
   "source": [
    "my_set"
   ]
  },
  {
   "cell_type": "code",
   "execution_count": 79,
   "metadata": {},
   "outputs": [],
   "source": [
    "my_set.discard(11)"
   ]
  },
  {
   "cell_type": "code",
   "execution_count": 80,
   "metadata": {},
   "outputs": [
    {
     "data": {
      "text/plain": [
       "{1, 2, 4, 5}"
      ]
     },
     "execution_count": 80,
     "metadata": {},
     "output_type": "execute_result"
    }
   ],
   "source": [
    "my_set"
   ]
  },
  {
   "cell_type": "code",
   "execution_count": 81,
   "metadata": {},
   "outputs": [
    {
     "name": "stdout",
     "output_type": "stream",
     "text": [
      "True\n"
     ]
    }
   ],
   "source": [
    "my_set = {1,2,3,4,5,6}\n",
    "print(3 in my_set)"
   ]
  },
  {
   "cell_type": "code",
   "execution_count": 82,
   "metadata": {},
   "outputs": [
    {
     "name": "stdout",
     "output_type": "stream",
     "text": [
      "False\n"
     ]
    }
   ],
   "source": [
    "print(10 in my_set)"
   ]
  },
  {
   "cell_type": "code",
   "execution_count": 83,
   "metadata": {},
   "outputs": [
    {
     "name": "stdout",
     "output_type": "stream",
     "text": [
      "{1, 2, 3, 4, 5, 6, 7, 8, 9}\n"
     ]
    }
   ],
   "source": [
    "set1 = {1,2,3,4,5,6,7}\n",
    "set2 = {4,5,6,7,8,9,9}\n",
    "\n",
    "union_set = set1.union(set2)\n",
    "\n",
    "print(union_set)\n"
   ]
  },
  {
   "cell_type": "code",
   "execution_count": 84,
   "metadata": {},
   "outputs": [],
   "source": [
    "intersection_set = set1.intersection(set2)"
   ]
  },
  {
   "cell_type": "code",
   "execution_count": 85,
   "metadata": {},
   "outputs": [
    {
     "data": {
      "text/plain": [
       "{4, 5, 6, 7}"
      ]
     },
     "execution_count": 85,
     "metadata": {},
     "output_type": "execute_result"
    }
   ],
   "source": [
    "intersection_set"
   ]
  },
  {
   "cell_type": "code",
   "execution_count": null,
   "metadata": {},
   "outputs": [],
   "source": []
  }
 ],
 "metadata": {
  "kernelspec": {
   "display_name": "mlops",
   "language": "python",
   "name": "python3"
  },
  "language_info": {
   "codemirror_mode": {
    "name": "ipython",
    "version": 3
   },
   "file_extension": ".py",
   "mimetype": "text/x-python",
   "name": "python",
   "nbconvert_exporter": "python",
   "pygments_lexer": "ipython3",
   "version": "3.12.9"
  }
 },
 "nbformat": 4,
 "nbformat_minor": 2
}
