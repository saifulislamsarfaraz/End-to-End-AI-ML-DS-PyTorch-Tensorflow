{
 "cells": [
  {
   "cell_type": "code",
   "execution_count": 1,
   "id": "d0d71075",
   "metadata": {},
   "outputs": [
    {
     "name": "stdout",
     "output_type": "stream",
     "text": [
      "4\n",
      "Saiful\n"
     ]
    }
   ],
   "source": [
    "## Basic Syntex Rules in Python \n",
    "## Case Sensitivity- Python is case sensitive\n",
    "name = 4\n",
    "Name = \"Saiful\"\n",
    "print(name)\n",
    "print(Name)"
   ]
  },
  {
   "cell_type": "code",
   "execution_count": 2,
   "id": "7bf105c3",
   "metadata": {},
   "outputs": [
    {
     "name": "stdout",
     "output_type": "stream",
     "text": [
      "You are above 30\n",
      "32\n"
     ]
    }
   ],
   "source": [
    "## Indentation \n",
    "## Python uses indentation to define blocks of code. Consistent use of spaces (commonly 4) or a tab is required.\n",
    "\n",
    "age=32\n",
    "if age>30:\n",
    "    print(\"You are above 30\")\n",
    "print(age)"
   ]
  },
  {
   "cell_type": "code",
   "execution_count": 3,
   "id": "a5eeec6c",
   "metadata": {},
   "outputs": [
    {
     "name": "stdout",
     "output_type": "stream",
     "text": [
      "Hello World\n"
     ]
    }
   ],
   "source": [
    "## Rhis is a single line comment \n",
    "print(\"Hello World\")"
   ]
  },
  {
   "cell_type": "code",
   "execution_count": 6,
   "id": "275a6aec",
   "metadata": {},
   "outputs": [],
   "source": [
    "# Line Continuation\n",
    "total = 1 + 2 + 3 + 4 + 5 + 6 + \\\n",
    "3 + 4 + 9"
   ]
  },
  {
   "cell_type": "code",
   "execution_count": 7,
   "id": "cac5cf31",
   "metadata": {},
   "outputs": [
    {
     "name": "stdout",
     "output_type": "stream",
     "text": [
      "37\n"
     ]
    }
   ],
   "source": [
    "print(total)"
   ]
  },
  {
   "cell_type": "code",
   "execution_count": 9,
   "id": "b40b90cf",
   "metadata": {},
   "outputs": [
    {
     "name": "stdout",
     "output_type": "stream",
     "text": [
      "15\n"
     ]
    }
   ],
   "source": [
    "## Multiple statement on a single line\n",
    "x = 5; y = 10; z = x+y\n",
    "print(z)"
   ]
  },
  {
   "cell_type": "code",
   "execution_count": 11,
   "id": "b1a95217",
   "metadata": {},
   "outputs": [
    {
     "name": "stdout",
     "output_type": "stream",
     "text": [
      "<class 'int'>\n",
      "Krish\n"
     ]
    }
   ],
   "source": [
    "variable =10\n",
    "print(type(variable))\n",
    "variable=\"Krish\"\n",
    "print(variable)"
   ]
  },
  {
   "cell_type": "code",
   "execution_count": 12,
   "id": "ce11cf5d",
   "metadata": {},
   "outputs": [
    {
     "name": "stdout",
     "output_type": "stream",
     "text": [
      "age:  32\n",
      "Height:  6.1\n"
     ]
    }
   ],
   "source": [
    "## Declaring and Assiging Variables\n",
    "age = 32\n",
    "height = 6.1\n",
    "name =  \"saiful\"\n",
    "is_student = True\n",
    "\n",
    "print(\"age: \",age)\n",
    "print(\"Height: \",height)"
   ]
  },
  {
   "cell_type": "code",
   "execution_count": null,
   "id": "9983ae49",
   "metadata": {},
   "outputs": [],
   "source": [
    "## Naming Conventaion \n",
    "## Variable names should be descriptive\n",
    "\n"
   ]
  },
  {
   "cell_type": "code",
   "execution_count": 13,
   "id": "f758df62",
   "metadata": {},
   "outputs": [],
   "source": [
    "## Understanding Variable types\n",
    "## Python is Dynamically typed, type of variable is determined at runtime"
   ]
  },
  {
   "cell_type": "code",
   "execution_count": 14,
   "id": "3fd91c0d",
   "metadata": {},
   "outputs": [],
   "source": [
    "## Daynamic Typing \n",
    "var = 10"
   ]
  },
  {
   "cell_type": "code",
   "execution_count": 15,
   "id": "3fc01e01",
   "metadata": {},
   "outputs": [
    {
     "name": "stdout",
     "output_type": "stream",
     "text": [
      "10 <class 'int'>\n"
     ]
    }
   ],
   "source": [
    "print(var, type(var))"
   ]
  },
  {
   "cell_type": "code",
   "execution_count": 16,
   "id": "2a4700e0",
   "metadata": {},
   "outputs": [
    {
     "name": "stdout",
     "output_type": "stream",
     "text": [
      "20\n"
     ]
    }
   ],
   "source": [
    "age = int(input(\"What is the age\"))\n",
    "print(age)"
   ]
  },
  {
   "cell_type": "code",
   "execution_count": 18,
   "id": "c8eebe62",
   "metadata": {},
   "outputs": [
    {
     "name": "stdout",
     "output_type": "stream",
     "text": [
      "Sum:  15.0\n",
      "Difference:  5.0\n",
      "Product:  50.0\n",
      "Qoutient:  2.0\n"
     ]
    }
   ],
   "source": [
    "num1 = float(input(\"Enter first number: \"))\n",
    "num2 = float(input(\"Enter second number: \"))\n",
    "\n",
    "sum = num1 + num2 \n",
    "difference = num1 - num2\n",
    "product = num1 * num2\n",
    "qoutient = num1/num2\n",
    "print(\"Sum: \", sum)\n",
    "print(\"Difference: \", difference)\n",
    "print(\"Product: \", product)\n",
    "print(\"Qoutient: \", qoutient)"
   ]
  },
  {
   "cell_type": "code",
   "execution_count": 19,
   "id": "7043613d",
   "metadata": {},
   "outputs": [
    {
     "name": "stdout",
     "output_type": "stream",
     "text": [
      "5.11\n",
      "<class 'str'>\n"
     ]
    }
   ],
   "source": [
    "height = 5.11\n",
    "print(height)\n",
    "print(type(name))\n"
   ]
  },
  {
   "cell_type": "code",
   "execution_count": 21,
   "id": "01e3eda8",
   "metadata": {},
   "outputs": [],
   "source": [
    "## Boolean datatype\n",
    "is_true = True"
   ]
  },
  {
   "cell_type": "code",
   "execution_count": 22,
   "id": "4003f2a6",
   "metadata": {},
   "outputs": [
    {
     "name": "stdout",
     "output_type": "stream",
     "text": [
      "True\n"
     ]
    }
   ],
   "source": [
    "print(is_true)"
   ]
  },
  {
   "cell_type": "code",
   "execution_count": 24,
   "id": "80ec8eaf",
   "metadata": {},
   "outputs": [],
   "source": [
    "a = 10\n",
    "b = 5\n",
    "add_result = a + b"
   ]
  },
  {
   "cell_type": "code",
   "execution_count": 26,
   "id": "51032d5b",
   "metadata": {},
   "outputs": [
    {
     "name": "stdout",
     "output_type": "stream",
     "text": [
      "15\n"
     ]
    }
   ],
   "source": [
    "print(add_result)\n"
   ]
  },
  {
   "cell_type": "code",
   "execution_count": 27,
   "id": "166d35ac",
   "metadata": {},
   "outputs": [],
   "source": [
    "exponent_result = a**b"
   ]
  },
  {
   "cell_type": "code",
   "execution_count": 28,
   "id": "9f64de67",
   "metadata": {},
   "outputs": [
    {
     "name": "stdout",
     "output_type": "stream",
     "text": [
      "100000\n"
     ]
    }
   ],
   "source": [
    "print(exponent_result)"
   ]
  },
  {
   "cell_type": "code",
   "execution_count": 29,
   "id": "e4ef468a",
   "metadata": {},
   "outputs": [],
   "source": [
    "## Comparision Operationrs"
   ]
  },
  {
   "cell_type": "code",
   "execution_count": null,
   "id": "1e632fb6",
   "metadata": {},
   "outputs": [],
   "source": []
  }
 ],
 "metadata": {
  "kernelspec": {
   "display_name": "env",
   "language": "python",
   "name": "python3"
  },
  "language_info": {
   "codemirror_mode": {
    "name": "ipython",
    "version": 3
   },
   "file_extension": ".py",
   "mimetype": "text/x-python",
   "name": "python",
   "nbconvert_exporter": "python",
   "pygments_lexer": "ipython3",
   "version": "3.10.0"
  }
 },
 "nbformat": 4,
 "nbformat_minor": 5
}
