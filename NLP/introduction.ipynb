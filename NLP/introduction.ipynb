{
 "cells": [
  {
   "cell_type": "code",
   "execution_count": 1,
   "id": "d0d71075",
   "metadata": {},
   "outputs": [
    {
     "name": "stdout",
     "output_type": "stream",
     "text": [
      "4\n",
      "Saiful\n"
     ]
    }
   ],
   "source": [
    "## Basic Syntex Rules in Python \n",
    "## Case Sensitivity- Python is case sensitive\n",
    "name = 4\n",
    "Name = \"Saiful\"\n",
    "print(name)\n",
    "print(Name)"
   ]
  },
  {
   "cell_type": "code",
   "execution_count": 2,
   "id": "7bf105c3",
   "metadata": {},
   "outputs": [
    {
     "name": "stdout",
     "output_type": "stream",
     "text": [
      "You are above 30\n",
      "32\n"
     ]
    }
   ],
   "source": [
    "## Indentation \n",
    "## Python uses indentation to define blocks of code. Consistent use of spaces (commonly 4) or a tab is required.\n",
    "\n",
    "age=32\n",
    "if age>30:\n",
    "    print(\"You are above 30\")\n",
    "print(age)"
   ]
  },
  {
   "cell_type": "code",
   "execution_count": 3,
   "id": "a5eeec6c",
   "metadata": {},
   "outputs": [
    {
     "name": "stdout",
     "output_type": "stream",
     "text": [
      "Hello World\n"
     ]
    }
   ],
   "source": [
    "## Rhis is a single line comment \n",
    "print(\"Hello World\")"
   ]
  },
  {
   "cell_type": "code",
   "execution_count": 6,
   "id": "275a6aec",
   "metadata": {},
   "outputs": [],
   "source": [
    "# Line Continuation\n",
    "total = 1 + 2 + 3 + 4 + 5 + 6 + \\\n",
    "3 + 4 + 9"
   ]
  },
  {
   "cell_type": "code",
   "execution_count": 7,
   "id": "cac5cf31",
   "metadata": {},
   "outputs": [
    {
     "name": "stdout",
     "output_type": "stream",
     "text": [
      "37\n"
     ]
    }
   ],
   "source": [
    "print(total)"
   ]
  },
  {
   "cell_type": "code",
   "execution_count": 9,
   "id": "b40b90cf",
   "metadata": {},
   "outputs": [
    {
     "name": "stdout",
     "output_type": "stream",
     "text": [
      "15\n"
     ]
    }
   ],
   "source": [
    "## Multiple statement on a single line\n",
    "x = 5; y = 10; z = x+y\n",
    "print(z)"
   ]
  },
  {
   "cell_type": "code",
   "execution_count": 11,
   "id": "b1a95217",
   "metadata": {},
   "outputs": [
    {
     "name": "stdout",
     "output_type": "stream",
     "text": [
      "<class 'int'>\n",
      "Krish\n"
     ]
    }
   ],
   "source": [
    "variable =10\n",
    "print(type(variable))\n",
    "variable=\"Krish\"\n",
    "print(variable)"
   ]
  },
  {
   "cell_type": "code",
   "execution_count": 12,
   "id": "ce11cf5d",
   "metadata": {},
   "outputs": [
    {
     "name": "stdout",
     "output_type": "stream",
     "text": [
      "age:  32\n",
      "Height:  6.1\n"
     ]
    }
   ],
   "source": [
    "## Declaring and Assiging Variables\n",
    "age = 32\n",
    "height = 6.1\n",
    "name =  \"saiful\"\n",
    "is_student = True\n",
    "\n",
    "print(\"age: \",age)\n",
    "print(\"Height: \",height)"
   ]
  },
  {
   "cell_type": "code",
   "execution_count": null,
   "id": "9983ae49",
   "metadata": {},
   "outputs": [],
   "source": [
    "## Naming Conventaion \n",
    "## Variable names should be descriptive\n",
    "\n"
   ]
  },
  {
   "cell_type": "code",
   "execution_count": 13,
   "id": "f758df62",
   "metadata": {},
   "outputs": [],
   "source": [
    "## Understanding Variable types\n",
    "## Python is Dynamically typed, type of variable is determined at runtime"
   ]
  },
  {
   "cell_type": "code",
   "execution_count": 14,
   "id": "3fd91c0d",
   "metadata": {},
   "outputs": [],
   "source": [
    "## Daynamic Typing \n",
    "var = 10"
   ]
  },
  {
   "cell_type": "code",
   "execution_count": 15,
   "id": "3fc01e01",
   "metadata": {},
   "outputs": [
    {
     "name": "stdout",
     "output_type": "stream",
     "text": [
      "10 <class 'int'>\n"
     ]
    }
   ],
   "source": [
    "print(var, type(var))"
   ]
  },
  {
   "cell_type": "code",
   "execution_count": 16,
   "id": "2a4700e0",
   "metadata": {},
   "outputs": [
    {
     "name": "stdout",
     "output_type": "stream",
     "text": [
      "20\n"
     ]
    }
   ],
   "source": [
    "age = int(input(\"What is the age\"))\n",
    "print(age)"
   ]
  },
  {
   "cell_type": "code",
   "execution_count": 18,
   "id": "c8eebe62",
   "metadata": {},
   "outputs": [
    {
     "name": "stdout",
     "output_type": "stream",
     "text": [
      "Sum:  15.0\n",
      "Difference:  5.0\n",
      "Product:  50.0\n",
      "Qoutient:  2.0\n"
     ]
    }
   ],
   "source": [
    "num1 = float(input(\"Enter first number: \"))\n",
    "num2 = float(input(\"Enter second number: \"))\n",
    "\n",
    "sum = num1 + num2 \n",
    "difference = num1 - num2\n",
    "product = num1 * num2\n",
    "qoutient = num1/num2\n",
    "print(\"Sum: \", sum)\n",
    "print(\"Difference: \", difference)\n",
    "print(\"Product: \", product)\n",
    "print(\"Qoutient: \", qoutient)"
   ]
  },
  {
   "cell_type": "code",
   "execution_count": 19,
   "id": "7043613d",
   "metadata": {},
   "outputs": [
    {
     "name": "stdout",
     "output_type": "stream",
     "text": [
      "5.11\n",
      "<class 'str'>\n"
     ]
    }
   ],
   "source": [
    "height = 5.11\n",
    "print(height)\n",
    "print(type(name))\n"
   ]
  },
  {
   "cell_type": "code",
   "execution_count": 21,
   "id": "01e3eda8",
   "metadata": {},
   "outputs": [],
   "source": [
    "## Boolean datatype\n",
    "is_true = True"
   ]
  },
  {
   "cell_type": "code",
   "execution_count": 22,
   "id": "4003f2a6",
   "metadata": {},
   "outputs": [
    {
     "name": "stdout",
     "output_type": "stream",
     "text": [
      "True\n"
     ]
    }
   ],
   "source": [
    "print(is_true)"
   ]
  },
  {
   "cell_type": "code",
   "execution_count": 24,
   "id": "80ec8eaf",
   "metadata": {},
   "outputs": [],
   "source": [
    "a = 10\n",
    "b = 5\n",
    "add_result = a + b"
   ]
  },
  {
   "cell_type": "code",
   "execution_count": 26,
   "id": "51032d5b",
   "metadata": {},
   "outputs": [
    {
     "name": "stdout",
     "output_type": "stream",
     "text": [
      "15\n"
     ]
    }
   ],
   "source": [
    "print(add_result)\n"
   ]
  },
  {
   "cell_type": "code",
   "execution_count": 27,
   "id": "166d35ac",
   "metadata": {},
   "outputs": [],
   "source": [
    "exponent_result = a**b"
   ]
  },
  {
   "cell_type": "code",
   "execution_count": 28,
   "id": "9f64de67",
   "metadata": {},
   "outputs": [
    {
     "name": "stdout",
     "output_type": "stream",
     "text": [
      "100000\n"
     ]
    }
   ],
   "source": [
    "print(exponent_result)"
   ]
  },
  {
   "cell_type": "code",
   "execution_count": 29,
   "id": "e4ef468a",
   "metadata": {},
   "outputs": [],
   "source": [
    "## Comparision Operationrs"
   ]
  },
  {
   "cell_type": "code",
   "execution_count": 30,
   "id": "1e632fb6",
   "metadata": {},
   "outputs": [
    {
     "name": "stdout",
     "output_type": "stream",
     "text": [
      "True\n"
     ]
    }
   ],
   "source": [
    "number1 = 45\n",
    "number2 = 50\n",
    "print(number2>number1)"
   ]
  },
  {
   "cell_type": "code",
   "execution_count": 32,
   "id": "1436d6e9",
   "metadata": {},
   "outputs": [
    {
     "name": "stdout",
     "output_type": "stream",
     "text": [
      "The number is positive\n",
      "The number is odd\n"
     ]
    }
   ],
   "source": [
    "num = int(input(\"Enter the number\"))\n",
    "\n",
    "if num>0:\n",
    "    print(\"The number is positive\")\n",
    "    if num%2==0:\n",
    "        print(\"The number is even\")\n",
    "    else:\n",
    "        print(\"The number is odd\")\n",
    "else:\n",
    "    print(\"The number is zero or negative\")"
   ]
  },
  {
   "cell_type": "code",
   "execution_count": 37,
   "id": "9af21386",
   "metadata": {},
   "outputs": [
    {
     "name": "stdout",
     "output_type": "stream",
     "text": [
      "2024 is a leap year\n"
     ]
    }
   ],
   "source": [
    "year = int(input(\"Enter the year\"))\n",
    "\n",
    "if year%4==0:\n",
    "    if year%100==0:\n",
    "        if year%400==0:\n",
    "            print(year,\"This is a leap year\")\n",
    "        else:\n",
    "            print(year, \"is not a leap year\")\n",
    "    else:\n",
    "        print(year,\"is a leap year\")\n",
    "else:\n",
    "    print(year,\"is not a leap year\")"
   ]
  },
  {
   "cell_type": "code",
   "execution_count": 38,
   "id": "f0b69537",
   "metadata": {},
   "outputs": [
    {
     "name": "stdout",
     "output_type": "stream",
     "text": [
      "0\n",
      "1\n",
      "2\n",
      "3\n",
      "4\n"
     ]
    }
   ],
   "source": [
    "count = 0\n",
    "while count<5:\n",
    "    print(count)\n",
    "    count = count+1"
   ]
  },
  {
   "cell_type": "code",
   "execution_count": 39,
   "id": "ed152f5d",
   "metadata": {},
   "outputs": [
    {
     "name": "stdout",
     "output_type": "stream",
     "text": [
      "0\n",
      "1\n",
      "2\n",
      "3\n",
      "4\n"
     ]
    }
   ],
   "source": [
    "for i in range(5):\n",
    "    if i==3:\n",
    "        pass\n",
    "    print(i)"
   ]
  },
  {
   "cell_type": "code",
   "execution_count": 40,
   "id": "118ffe83",
   "metadata": {},
   "outputs": [
    {
     "name": "stdout",
     "output_type": "stream",
     "text": [
      "0 and j:0\n",
      "0 and j:1\n",
      "1 and j:0\n",
      "1 and j:1\n",
      "2 and j:0\n",
      "2 and j:1\n"
     ]
    }
   ],
   "source": [
    "for i in range(3):\n",
    "    for j in range(2):\n",
    "        print(f\"{i} and j:{j}\")"
   ]
  },
  {
   "cell_type": "code",
   "execution_count": 41,
   "id": "17202c32",
   "metadata": {},
   "outputs": [],
   "source": [
    "## example calculate the sum of first N natural numbers using a while for loop\n"
   ]
  },
  {
   "cell_type": "code",
   "execution_count": 42,
   "id": "6c7b1b1c",
   "metadata": {},
   "outputs": [
    {
     "name": "stdout",
     "output_type": "stream",
     "text": [
      "Sum of first 10 natural number  55\n"
     ]
    }
   ],
   "source": [
    "n=10\n",
    "sum=0\n",
    "count = 1\n",
    "while count<=n:\n",
    "    sum = sum + count\n",
    "    count = count + 1\n",
    "print(\"Sum of first 10 natural number \", sum)"
   ]
  },
  {
   "cell_type": "code",
   "execution_count": 43,
   "id": "c6b3094e",
   "metadata": {},
   "outputs": [
    {
     "name": "stdout",
     "output_type": "stream",
     "text": [
      "1\n"
     ]
    }
   ],
   "source": [
    "for num in range(1,101):\n",
    "    if num>1:\n",
    "        for i in range(2,num):\n",
    "            if num%i==0:\n",
    "                break\n",
    "    else:\n",
    "        print(num)"
   ]
  },
  {
   "cell_type": "code",
   "execution_count": 44,
   "id": "c743d451",
   "metadata": {},
   "outputs": [],
   "source": [
    "fruits = [\"apple\",\"banana\",\"cherry\",\"kiwi\",\"gauva\"]\n"
   ]
  },
  {
   "cell_type": "code",
   "execution_count": 45,
   "id": "e370437d",
   "metadata": {},
   "outputs": [
    {
     "name": "stdout",
     "output_type": "stream",
     "text": [
      "apple\n"
     ]
    }
   ],
   "source": [
    "print(fruits[0])"
   ]
  },
  {
   "cell_type": "code",
   "execution_count": 46,
   "id": "986b9d27",
   "metadata": {},
   "outputs": [
    {
     "data": {
      "text/plain": [
       "['banana', 'cherry', 'kiwi', 'gauva']"
      ]
     },
     "execution_count": 46,
     "metadata": {},
     "output_type": "execute_result"
    }
   ],
   "source": [
    "fruits[1:]"
   ]
  },
  {
   "cell_type": "code",
   "execution_count": 47,
   "id": "ecf95978",
   "metadata": {},
   "outputs": [],
   "source": [
    "fruits[1:] = 'watermelon'"
   ]
  },
  {
   "cell_type": "code",
   "execution_count": 48,
   "id": "9b7f94b3",
   "metadata": {},
   "outputs": [
    {
     "data": {
      "text/plain": [
       "['apple', 'w', 'a', 't', 'e', 'r', 'm', 'e', 'l', 'o', 'n']"
      ]
     },
     "execution_count": 48,
     "metadata": {},
     "output_type": "execute_result"
    }
   ],
   "source": [
    "fruits"
   ]
  },
  {
   "cell_type": "code",
   "execution_count": 66,
   "id": "677c082c",
   "metadata": {},
   "outputs": [],
   "source": [
    "fruits = [\"apple\",\"banana\",\"cherry\",\"kiwi\",\"gauva\"]\n"
   ]
  },
  {
   "cell_type": "code",
   "execution_count": 67,
   "id": "fe5bd82b",
   "metadata": {},
   "outputs": [],
   "source": [
    "fruits.append(\"orange\")"
   ]
  },
  {
   "cell_type": "code",
   "execution_count": 68,
   "id": "3635d723",
   "metadata": {},
   "outputs": [
    {
     "data": {
      "text/plain": [
       "['apple', 'banana', 'cherry', 'kiwi', 'gauva', 'orange']"
      ]
     },
     "execution_count": 68,
     "metadata": {},
     "output_type": "execute_result"
    }
   ],
   "source": [
    "fruits"
   ]
  },
  {
   "cell_type": "code",
   "execution_count": 69,
   "id": "d38b7003",
   "metadata": {},
   "outputs": [],
   "source": [
    "fruits.insert(1,\"watermelon\")"
   ]
  },
  {
   "cell_type": "code",
   "execution_count": 70,
   "id": "a68a3c44",
   "metadata": {},
   "outputs": [
    {
     "data": {
      "text/plain": [
       "['apple', 'watermelon', 'banana', 'cherry', 'kiwi', 'gauva', 'orange']"
      ]
     },
     "execution_count": 70,
     "metadata": {},
     "output_type": "execute_result"
    }
   ],
   "source": [
    "fruits"
   ]
  },
  {
   "cell_type": "code",
   "execution_count": 71,
   "id": "668ce957",
   "metadata": {},
   "outputs": [
    {
     "name": "stdout",
     "output_type": "stream",
     "text": [
      "orange\n"
     ]
    }
   ],
   "source": [
    "## Remove and return the last item\n",
    "print(fruits.pop())"
   ]
  },
  {
   "cell_type": "code",
   "execution_count": 72,
   "id": "cab598e9",
   "metadata": {},
   "outputs": [
    {
     "data": {
      "text/plain": [
       "3"
      ]
     },
     "execution_count": 72,
     "metadata": {},
     "output_type": "execute_result"
    }
   ],
   "source": [
    "fruits.index(\"cherry\")"
   ]
  },
  {
   "cell_type": "code",
   "execution_count": 73,
   "id": "c953b7a0",
   "metadata": {},
   "outputs": [],
   "source": [
    "fruits.insert(2,\"banana\")"
   ]
  },
  {
   "cell_type": "code",
   "execution_count": 75,
   "id": "232f5062",
   "metadata": {},
   "outputs": [
    {
     "data": {
      "text/plain": [
       "2"
      ]
     },
     "execution_count": 75,
     "metadata": {},
     "output_type": "execute_result"
    }
   ],
   "source": [
    "fruits.count(\"banana\")"
   ]
  },
  {
   "cell_type": "code",
   "execution_count": 76,
   "id": "4267577c",
   "metadata": {},
   "outputs": [],
   "source": [
    "## slicing list"
   ]
  },
  {
   "cell_type": "code",
   "execution_count": 77,
   "id": "91b5c911",
   "metadata": {},
   "outputs": [],
   "source": [
    "numbers = [1,2,3,4,4,5,6,7]"
   ]
  },
  {
   "cell_type": "code",
   "execution_count": 78,
   "id": "0a7f2e99",
   "metadata": {},
   "outputs": [
    {
     "name": "stdout",
     "output_type": "stream",
     "text": [
      "[3, 4, 4]\n"
     ]
    }
   ],
   "source": [
    "print(numbers[2:5])"
   ]
  },
  {
   "cell_type": "code",
   "execution_count": 79,
   "id": "46be9647",
   "metadata": {},
   "outputs": [
    {
     "name": "stdout",
     "output_type": "stream",
     "text": [
      "[1, 2, 3, 4, 4]\n"
     ]
    }
   ],
   "source": [
    "print(numbers[:5])"
   ]
  },
  {
   "cell_type": "code",
   "execution_count": 80,
   "id": "1a30de0b",
   "metadata": {},
   "outputs": [
    {
     "name": "stdout",
     "output_type": "stream",
     "text": [
      "[1, 3, 4, 6]\n"
     ]
    }
   ],
   "source": [
    "print(numbers[::2])"
   ]
  },
  {
   "cell_type": "code",
   "execution_count": 82,
   "id": "d3ae27da",
   "metadata": {},
   "outputs": [
    {
     "name": "stdout",
     "output_type": "stream",
     "text": [
      "1\n",
      "2\n",
      "3\n",
      "4\n",
      "4\n",
      "5\n",
      "6\n",
      "7\n"
     ]
    }
   ],
   "source": [
    "for number in numbers:\n",
    "    print(number)"
   ]
  },
  {
   "cell_type": "code",
   "execution_count": 83,
   "id": "e6e7bfba",
   "metadata": {},
   "outputs": [
    {
     "name": "stdout",
     "output_type": "stream",
     "text": [
      "0 1\n",
      "1 2\n",
      "2 3\n",
      "3 4\n",
      "4 4\n",
      "5 5\n",
      "6 6\n",
      "7 7\n"
     ]
    }
   ],
   "source": [
    "for index, number in enumerate(numbers):\n",
    "    print(index,number)"
   ]
  },
  {
   "cell_type": "code",
   "execution_count": 84,
   "id": "40d63029",
   "metadata": {},
   "outputs": [],
   "source": [
    "lst = []\n",
    "for x in range(20):\n",
    "    lst.append(x**2)"
   ]
  },
  {
   "cell_type": "code",
   "execution_count": 85,
   "id": "9383b733",
   "metadata": {},
   "outputs": [
    {
     "name": "stdout",
     "output_type": "stream",
     "text": [
      "[0, 1, 4, 9, 16, 25, 36, 49, 64, 81, 100, 121, 144, 169, 196, 225, 256, 289, 324, 361]\n"
     ]
    }
   ],
   "source": [
    "print(lst)"
   ]
  },
  {
   "cell_type": "code",
   "execution_count": 86,
   "id": "fc8d6857",
   "metadata": {},
   "outputs": [
    {
     "data": {
      "text/plain": [
       "[0, 1, 4, 9, 16, 25, 36, 49, 64, 81]"
      ]
     },
     "execution_count": 86,
     "metadata": {},
     "output_type": "execute_result"
    }
   ],
   "source": [
    "[x**2 for x in range(10)]"
   ]
  },
  {
   "cell_type": "code",
   "execution_count": 87,
   "id": "336baee3",
   "metadata": {},
   "outputs": [],
   "source": [
    "lst = []\n",
    "for i in range(10):\n",
    "    if i%2==0:\n",
    "        lst.append(i)"
   ]
  },
  {
   "cell_type": "code",
   "execution_count": 88,
   "id": "4f7eb8ba",
   "metadata": {},
   "outputs": [
    {
     "data": {
      "text/plain": [
       "[0, 2, 4, 6, 8]"
      ]
     },
     "execution_count": 88,
     "metadata": {},
     "output_type": "execute_result"
    }
   ],
   "source": [
    "lst"
   ]
  },
  {
   "cell_type": "code",
   "execution_count": 90,
   "id": "69660738",
   "metadata": {},
   "outputs": [],
   "source": [
    "even_numbers = [num for num in range(10) if num%2==0]"
   ]
  },
  {
   "cell_type": "code",
   "execution_count": 92,
   "id": "600f6f8b",
   "metadata": {},
   "outputs": [
    {
     "data": {
      "text/plain": [
       "[0, 2, 4, 6, 8]"
      ]
     },
     "execution_count": 92,
     "metadata": {},
     "output_type": "execute_result"
    }
   ],
   "source": [
    "even_numbers"
   ]
  },
  {
   "cell_type": "code",
   "execution_count": 93,
   "id": "926b792b",
   "metadata": {},
   "outputs": [],
   "source": [
    "# Nested list Comprehension"
   ]
  },
  {
   "cell_type": "code",
   "execution_count": 94,
   "id": "ad461b34",
   "metadata": {},
   "outputs": [],
   "source": [
    "lst1 = [1,2,3,4]\n",
    "lst2 = ['a','b','c','d']\n",
    "\n",
    "pair = [[i,j] for i in lst1 for j in lst2]"
   ]
  },
  {
   "cell_type": "code",
   "execution_count": 95,
   "id": "e5f06b1c",
   "metadata": {},
   "outputs": [
    {
     "data": {
      "text/plain": [
       "[[1, 'a'],\n",
       " [1, 'b'],\n",
       " [1, 'c'],\n",
       " [1, 'd'],\n",
       " [2, 'a'],\n",
       " [2, 'b'],\n",
       " [2, 'c'],\n",
       " [2, 'd'],\n",
       " [3, 'a'],\n",
       " [3, 'b'],\n",
       " [3, 'c'],\n",
       " [3, 'd'],\n",
       " [4, 'a'],\n",
       " [4, 'b'],\n",
       " [4, 'c'],\n",
       " [4, 'd']]"
      ]
     },
     "execution_count": 95,
     "metadata": {},
     "output_type": "execute_result"
    }
   ],
   "source": [
    "pair"
   ]
  },
  {
   "cell_type": "code",
   "execution_count": 96,
   "id": "8b543da7",
   "metadata": {},
   "outputs": [
    {
     "name": "stdout",
     "output_type": "stream",
     "text": [
      "<class 'tuple'>\n"
     ]
    }
   ],
   "source": [
    "## Immutable Tuples \n",
    "\n",
    "## Creating a tuple \n",
    "empty_tuple = ()\n",
    "print(type(empty_tuple))\n"
   ]
  },
  {
   "cell_type": "code",
   "execution_count": 97,
   "id": "b34f8f01",
   "metadata": {},
   "outputs": [],
   "source": [
    "number = tuple([1,2,3,4,5,6,7])"
   ]
  },
  {
   "cell_type": "code",
   "execution_count": 98,
   "id": "f23f0249",
   "metadata": {},
   "outputs": [
    {
     "name": "stdout",
     "output_type": "stream",
     "text": [
      "<class 'tuple'>\n"
     ]
    }
   ],
   "source": [
    "print(type(number))"
   ]
  },
  {
   "cell_type": "code",
   "execution_count": 100,
   "id": "8840dfb5",
   "metadata": {},
   "outputs": [
    {
     "name": "stdout",
     "output_type": "stream",
     "text": [
      "(1, 'Hello World', 3.14, True)\n"
     ]
    }
   ],
   "source": [
    "mixed_tuple = (1,\"Hello World\",3.14,True)\n",
    "print(mixed_tuple)"
   ]
  },
  {
   "cell_type": "code",
   "execution_count": 101,
   "id": "449553dd",
   "metadata": {},
   "outputs": [],
   "source": [
    "## Accessing Tuple Elements"
   ]
  },
  {
   "cell_type": "code",
   "execution_count": 102,
   "id": "cd8cb517",
   "metadata": {},
   "outputs": [
    {
     "data": {
      "text/plain": [
       "1"
      ]
     },
     "execution_count": 102,
     "metadata": {},
     "output_type": "execute_result"
    }
   ],
   "source": [
    "numbers[0]"
   ]
  },
  {
   "cell_type": "code",
   "execution_count": 103,
   "id": "b422365e",
   "metadata": {},
   "outputs": [
    {
     "data": {
      "text/plain": [
       "3"
      ]
     },
     "execution_count": 103,
     "metadata": {},
     "output_type": "execute_result"
    }
   ],
   "source": [
    "numbers[2]"
   ]
  },
  {
   "cell_type": "code",
   "execution_count": 104,
   "id": "2d3794af",
   "metadata": {},
   "outputs": [
    {
     "data": {
      "text/plain": [
       "7"
      ]
     },
     "execution_count": 104,
     "metadata": {},
     "output_type": "execute_result"
    }
   ],
   "source": [
    "numbers[-1]"
   ]
  },
  {
   "cell_type": "code",
   "execution_count": 106,
   "id": "d5947a7f",
   "metadata": {},
   "outputs": [
    {
     "name": "stdout",
     "output_type": "stream",
     "text": [
      "[1, 2, 3, 4]\n"
     ]
    }
   ],
   "source": [
    "print(numbers[0:4])"
   ]
  },
  {
   "cell_type": "code",
   "execution_count": 108,
   "id": "e63360cf",
   "metadata": {},
   "outputs": [
    {
     "ename": "TypeError",
     "evalue": "can only concatenate list (not \"tuple\") to list",
     "output_type": "error",
     "traceback": [
      "\u001b[0;31m---------------------------------------------------------------------------\u001b[0m",
      "\u001b[0;31mTypeError\u001b[0m                                 Traceback (most recent call last)",
      "Cell \u001b[0;32mIn[108], line 1\u001b[0m\n\u001b[0;32m----> 1\u001b[0m contination_tule \u001b[38;5;241m=\u001b[39m \u001b[43mnumbers\u001b[49m\u001b[43m \u001b[49m\u001b[38;5;241;43m+\u001b[39;49m\u001b[43m \u001b[49m\u001b[43mmixed_tuple\u001b[49m\n",
      "\u001b[0;31mTypeError\u001b[0m: can only concatenate list (not \"tuple\") to list"
     ]
    }
   ],
   "source": [
    "contination_tule = numbers + mixed_tuple"
   ]
  },
  {
   "cell_type": "code",
   "execution_count": 109,
   "id": "73badfd6",
   "metadata": {},
   "outputs": [
    {
     "name": "stdout",
     "output_type": "stream",
     "text": [
      "()\n"
     ]
    }
   ],
   "source": [
    "#   Cearting a tuple   \n",
    "empty_tuple = ()\n",
    "print(empty_tuple)"
   ]
  },
  {
   "cell_type": "code",
   "execution_count": 110,
   "id": "8d6024f3",
   "metadata": {},
   "outputs": [],
   "source": [
    "lst = list()"
   ]
  },
  {
   "cell_type": "code",
   "execution_count": 111,
   "id": "b1b416f0",
   "metadata": {},
   "outputs": [
    {
     "data": {
      "text/plain": [
       "list"
      ]
     },
     "execution_count": 111,
     "metadata": {},
     "output_type": "execute_result"
    }
   ],
   "source": [
    "\n",
    "type(lst)"
   ]
  },
  {
   "cell_type": "code",
   "execution_count": 112,
   "id": "c83d7140",
   "metadata": {},
   "outputs": [],
   "source": [
    "tpl = tuple()"
   ]
  },
  {
   "cell_type": "code",
   "execution_count": 114,
   "id": "89150b60",
   "metadata": {},
   "outputs": [
    {
     "name": "stdout",
     "output_type": "stream",
     "text": [
      "1\n",
      "[2, 3, 4, 5]\n",
      "6\n"
     ]
    }
   ],
   "source": [
    "# Hello I am here to help\n",
    "\n",
    "numbers = (1,2,3,4,5,6)\n",
    "first,*middle,last = numbers\n",
    "print(first)\n",
    "print(middle)\n",
    "print(last)"
   ]
  },
  {
   "cell_type": "code",
   "execution_count": 115,
   "id": "ef5a1594",
   "metadata": {},
   "outputs": [],
   "source": [
    "lst = [[1,2,3,4],[6,7,8,9],[1,2,\"Hello\",3.41,\"c\"]]"
   ]
  },
  {
   "cell_type": "code",
   "execution_count": 116,
   "id": "cd687321",
   "metadata": {},
   "outputs": [
    {
     "data": {
      "text/plain": [
       "[[1, 2, 3, 4], [6, 7, 8, 9], [1, 2, 'Hello', 3.41, 'c']]"
      ]
     },
     "execution_count": 116,
     "metadata": {},
     "output_type": "execute_result"
    }
   ],
   "source": [
    "lst"
   ]
  },
  {
   "cell_type": "code",
   "execution_count": 117,
   "id": "d895c685",
   "metadata": {},
   "outputs": [
    {
     "data": {
      "text/plain": [
       "[1, 2, 3]"
      ]
     },
     "execution_count": 117,
     "metadata": {},
     "output_type": "execute_result"
    }
   ],
   "source": [
    "lst[0][0:3]"
   ]
  },
  {
   "cell_type": "code",
   "execution_count": 119,
   "id": "066af3eb",
   "metadata": {},
   "outputs": [
    {
     "data": {
      "text/plain": [
       "[8, 9]"
      ]
     },
     "execution_count": 119,
     "metadata": {},
     "output_type": "execute_result"
    }
   ],
   "source": [
    "lst[1][2:]"
   ]
  },
  {
   "cell_type": "code",
   "execution_count": 120,
   "id": "60166c3f",
   "metadata": {},
   "outputs": [
    {
     "name": "stdout",
     "output_type": "stream",
     "text": [
      "(1, 2, 3)\n",
      "c\n"
     ]
    }
   ],
   "source": [
    "nested_tuplpe = ((1,2,3),(\"a\",\"b\",\"c\"),(True,False))\n",
    "print(nested_tuplpe[0])\n",
    "print(nested_tuplpe[1][2])"
   ]
  },
  {
   "cell_type": "code",
   "execution_count": 121,
   "id": "140bbf79",
   "metadata": {},
   "outputs": [
    {
     "name": "stdout",
     "output_type": "stream",
     "text": [
      "1 2 3 \n",
      "a b c \n",
      "True False \n"
     ]
    }
   ],
   "source": [
    "for sub_tuple in nested_tuplpe:\n",
    "    for item in sub_tuple:\n",
    "        print(item,end=\" \")\n",
    "    print()"
   ]
  },
  {
   "cell_type": "code",
   "execution_count": 122,
   "id": "08db4f69",
   "metadata": {},
   "outputs": [
    {
     "name": "stdout",
     "output_type": "stream",
     "text": [
      "<class 'dict'>\n"
     ]
    }
   ],
   "source": [
    "empty_dict = {}\n",
    "print(type(empty_dict))\n"
   ]
  },
  {
   "cell_type": "code",
   "execution_count": 123,
   "id": "f3f968e5",
   "metadata": {},
   "outputs": [
    {
     "name": "stdout",
     "output_type": "stream",
     "text": [
      "{'name': 'saiful', 'age': 25, 'grade': 24}\n"
     ]
    }
   ],
   "source": [
    "student = {\"name\": \"saiful\", \"age\":25,\"grade\":24}\n",
    "print(student)"
   ]
  },
  {
   "cell_type": "code",
   "execution_count": 124,
   "id": "9c8968fb",
   "metadata": {},
   "outputs": [],
   "source": [
    "# Single key is always used\n",
    "student = {\"name\":\"Saiful\",\"age\":25,\"name\":24}"
   ]
  },
  {
   "cell_type": "code",
   "execution_count": 125,
   "id": "6a05242f",
   "metadata": {},
   "outputs": [
    {
     "data": {
      "text/plain": [
       "{'name': 24, 'age': 25}"
      ]
     },
     "execution_count": 125,
     "metadata": {},
     "output_type": "execute_result"
    }
   ],
   "source": [
    "student"
   ]
  },
  {
   "cell_type": "code",
   "execution_count": 127,
   "id": "4599c945",
   "metadata": {},
   "outputs": [],
   "source": [
    "student={\"name\": \"Saiful\",\"age\":24,\"grede\":'A'}"
   ]
  },
  {
   "cell_type": "code",
   "execution_count": 128,
   "id": "0b2fdbec",
   "metadata": {},
   "outputs": [
    {
     "name": "stdout",
     "output_type": "stream",
     "text": [
      "{'name': 'Saiful', 'age': 24, 'grede': 'A'}\n"
     ]
    }
   ],
   "source": [
    "print(student)"
   ]
  },
  {
   "cell_type": "code",
   "execution_count": 130,
   "id": "b1b96980",
   "metadata": {},
   "outputs": [],
   "source": [
    "student[\"address\"] = \"Bangladesh\""
   ]
  },
  {
   "cell_type": "code",
   "execution_count": 131,
   "id": "4e9e28db",
   "metadata": {},
   "outputs": [
    {
     "data": {
      "text/plain": [
       "{'name': 'Saiful', 'age': 24, 'grede': 'A', 'address': 'Bangladesh'}"
      ]
     },
     "execution_count": 131,
     "metadata": {},
     "output_type": "execute_result"
    }
   ],
   "source": [
    "student"
   ]
  },
  {
   "cell_type": "code",
   "execution_count": 133,
   "id": "c386d352",
   "metadata": {},
   "outputs": [],
   "source": [
    "del student['name']"
   ]
  },
  {
   "cell_type": "code",
   "execution_count": 134,
   "id": "f2685c12",
   "metadata": {},
   "outputs": [
    {
     "data": {
      "text/plain": [
       "{'age': 24, 'grede': 'A', 'address': 'Bangladesh'}"
      ]
     },
     "execution_count": 134,
     "metadata": {},
     "output_type": "execute_result"
    }
   ],
   "source": [
    "student"
   ]
  },
  {
   "cell_type": "code",
   "execution_count": 136,
   "id": "95fce081",
   "metadata": {},
   "outputs": [
    {
     "name": "stdout",
     "output_type": "stream",
     "text": [
      "dict_keys(['age', 'grede', 'address'])\n"
     ]
    }
   ],
   "source": [
    "keys = student.keys()\n",
    "print(keys)"
   ]
  },
  {
   "cell_type": "code",
   "execution_count": 137,
   "id": "1d108b61",
   "metadata": {},
   "outputs": [],
   "source": [
    "values = student.values()"
   ]
  },
  {
   "cell_type": "code",
   "execution_count": 138,
   "id": "82794bc5",
   "metadata": {},
   "outputs": [
    {
     "name": "stdout",
     "output_type": "stream",
     "text": [
      "dict_values([24, 'A', 'Bangladesh'])\n"
     ]
    }
   ],
   "source": [
    "print(values)"
   ]
  },
  {
   "cell_type": "code",
   "execution_count": 139,
   "id": "b539073d",
   "metadata": {},
   "outputs": [],
   "source": [
    "items = student.items()"
   ]
  },
  {
   "cell_type": "code",
   "execution_count": 140,
   "id": "712817be",
   "metadata": {},
   "outputs": [
    {
     "name": "stdout",
     "output_type": "stream",
     "text": [
      "dict_items([('age', 24), ('grede', 'A'), ('address', 'Bangladesh')])\n"
     ]
    }
   ],
   "source": [
    "print(items)"
   ]
  },
  {
   "cell_type": "code",
   "execution_count": 141,
   "id": "647fe134",
   "metadata": {},
   "outputs": [],
   "source": [
    "student[\"name\"] = \"Saiful\""
   ]
  },
  {
   "cell_type": "code",
   "execution_count": 142,
   "id": "0e3bf04f",
   "metadata": {},
   "outputs": [
    {
     "name": "stdout",
     "output_type": "stream",
     "text": [
      "age\n",
      "grede\n",
      "address\n",
      "name\n"
     ]
    }
   ],
   "source": [
    "## interating over Dictionaries\n",
    "## You can use loops to iterate over dictonaries, keys values or items\n",
    "\n",
    "for keys in student.keys():\n",
    "    print(keys)\n"
   ]
  },
  {
   "cell_type": "code",
   "execution_count": 143,
   "id": "1bcc2846",
   "metadata": {},
   "outputs": [
    {
     "name": "stdout",
     "output_type": "stream",
     "text": [
      "24\n",
      "A\n",
      "Bangladesh\n",
      "Saiful\n"
     ]
    }
   ],
   "source": [
    "## Iterate over values \n",
    "for value in student.values():\n",
    "    print(value)"
   ]
  },
  {
   "cell_type": "code",
   "execution_count": 144,
   "id": "1deb02c6",
   "metadata": {},
   "outputs": [
    {
     "name": "stdout",
     "output_type": "stream",
     "text": [
      "age:24\n",
      "grede:A\n",
      "address:Bangladesh\n",
      "name:Saiful\n"
     ]
    }
   ],
   "source": [
    "for key, value in student.items():\n",
    "    print(f\"{key}:{value}\")"
   ]
  },
  {
   "cell_type": "code",
   "execution_count": 146,
   "id": "7ab85c13",
   "metadata": {},
   "outputs": [
    {
     "name": "stdout",
     "output_type": "stream",
     "text": [
      "Student ID: age\n"
     ]
    },
    {
     "ename": "AttributeError",
     "evalue": "'int' object has no attribute 'items'",
     "output_type": "error",
     "traceback": [
      "\u001b[0;31m---------------------------------------------------------------------------\u001b[0m",
      "\u001b[0;31mAttributeError\u001b[0m                            Traceback (most recent call last)",
      "Cell \u001b[0;32mIn[146], line 5\u001b[0m\n\u001b[1;32m      3\u001b[0m \u001b[38;5;28;01mfor\u001b[39;00m student_id,student_info \u001b[38;5;129;01min\u001b[39;00m student\u001b[38;5;241m.\u001b[39mitems():\n\u001b[1;32m      4\u001b[0m     \u001b[38;5;28mprint\u001b[39m(\u001b[38;5;124mf\u001b[39m\u001b[38;5;124m\"\u001b[39m\u001b[38;5;124mStudent ID: \u001b[39m\u001b[38;5;132;01m{\u001b[39;00mstudent_id\u001b[38;5;132;01m}\u001b[39;00m\u001b[38;5;124m\"\u001b[39m)\n\u001b[0;32m----> 5\u001b[0m     \u001b[38;5;28;01mfor\u001b[39;00m key, value \u001b[38;5;129;01min\u001b[39;00m \u001b[43mstudent_info\u001b[49m\u001b[38;5;241;43m.\u001b[39;49m\u001b[43mitems\u001b[49m():\n\u001b[1;32m      6\u001b[0m         \u001b[38;5;28mprint\u001b[39m(\u001b[38;5;124mf\u001b[39m\u001b[38;5;124m\"\u001b[39m\u001b[38;5;132;01m{\u001b[39;00mkey\u001b[38;5;132;01m}\u001b[39;00m\u001b[38;5;124m:\u001b[39m\u001b[38;5;132;01m{\u001b[39;00mvalue\u001b[38;5;132;01m}\u001b[39;00m\u001b[38;5;124m\"\u001b[39m)\n",
      "\u001b[0;31mAttributeError\u001b[0m: 'int' object has no attribute 'items'"
     ]
    }
   ],
   "source": [
    "## Iterating over nested Dictionaries\n",
    "\n",
    "for student_id,student_info in student.items():\n",
    "    print(f\"Student ID: {student_id}\")\n",
    "    for key, value in student_info.items():\n",
    "        print(f\"{key}:{value}\")"
   ]
  },
  {
   "cell_type": "code",
   "execution_count": 148,
   "id": "b16dfe0c",
   "metadata": {},
   "outputs": [
    {
     "name": "stdout",
     "output_type": "stream",
     "text": [
      "{0: 0, 2: 4, 4: 16, 6: 36, 8: 64}\n"
     ]
    }
   ],
   "source": [
    "squares = {x:x**2 for x in range(10) if x%2==0}\n",
    "print(squares)"
   ]
  },
  {
   "cell_type": "code",
   "execution_count": 149,
   "id": "534ff40b",
   "metadata": {},
   "outputs": [
    {
     "name": "stdout",
     "output_type": "stream",
     "text": [
      "{1: 1, 2: 1, 3: 1, 4: 2, 5: 5, 6: 6, 7: 5}\n"
     ]
    }
   ],
   "source": [
    "numbers = [1,2,3,4,5,6,7,5,6,6,7,6,7,5,4,5,5,6,6,7,7]\n",
    "frequency = {}\n",
    "for number in numbers:\n",
    "    if number in frequency:\n",
    "        frequency[number]+=1\n",
    "    else:\n",
    "        frequency[number] = 1\n",
    "print(frequency)"
   ]
  },
  {
   "cell_type": "code",
   "execution_count": 150,
   "id": "496652a8",
   "metadata": {},
   "outputs": [],
   "source": [
    "## merge 2 dictionaries into one\n",
    "dict1 = {\"a\":1,\"b\":2}\n",
    "dict2 = {\"b\":3,\"c\":4}"
   ]
  },
  {
   "cell_type": "code",
   "execution_count": 151,
   "id": "f70d33a5",
   "metadata": {},
   "outputs": [],
   "source": [
    "merged_dict = {**dict1,**dict2}"
   ]
  },
  {
   "cell_type": "code",
   "execution_count": 152,
   "id": "6534103f",
   "metadata": {},
   "outputs": [
    {
     "data": {
      "text/plain": [
       "{'a': 1, 'b': 3, 'c': 4}"
      ]
     },
     "execution_count": 152,
     "metadata": {},
     "output_type": "execute_result"
    }
   ],
   "source": [
    "merged_dict"
   ]
  },
  {
   "cell_type": "code",
   "execution_count": null,
   "id": "b59f2ba4",
   "metadata": {},
   "outputs": [],
   "source": [
    "# "
   ]
  }
 ],
 "metadata": {
  "kernelspec": {
   "display_name": "env",
   "language": "python",
   "name": "python3"
  },
  "language_info": {
   "codemirror_mode": {
    "name": "ipython",
    "version": 3
   },
   "file_extension": ".py",
   "mimetype": "text/x-python",
   "name": "python",
   "nbconvert_exporter": "python",
   "pygments_lexer": "ipython3",
   "version": "3.10.0"
  }
 },
 "nbformat": 4,
 "nbformat_minor": 5
}
