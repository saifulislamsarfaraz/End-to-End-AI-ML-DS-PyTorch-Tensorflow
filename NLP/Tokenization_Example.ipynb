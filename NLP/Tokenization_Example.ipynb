{
 "cells": [
  {
   "cell_type": "code",
   "execution_count": 33,
   "id": "02b161ed",
   "metadata": {},
   "outputs": [],
   "source": [
    "corpus = \"\"\"My name is Saiful. \n",
    "I have completed my graduation from east west university.\n",
    "I am pursing Master's of science from brac university. Along with my studies I have been working as Machine Learning Engineer and AI application developer at a Biotech company.\n",
    "\"\"\""
   ]
  },
  {
   "cell_type": "code",
   "execution_count": 34,
   "id": "c4f636be",
   "metadata": {},
   "outputs": [
    {
     "name": "stdout",
     "output_type": "stream",
     "text": [
      "My name is Saiful. \n",
      "I have completed my graduation from east west university.\n",
      "I am pursing Master's of science from brac university. Along with my studies I have been working as Machine Learning Engineer and AI application developer at a Biotech company.\n",
      "\n"
     ]
    }
   ],
   "source": [
    "print(corpus)"
   ]
  },
  {
   "cell_type": "code",
   "execution_count": 35,
   "id": "47966c8b",
   "metadata": {},
   "outputs": [
    {
     "name": "stdout",
     "output_type": "stream",
     "text": [
      "Requirement already satisfied: nltk in /home/saif/miniconda3/envs/env/lib/python3.10/site-packages (3.9.1)\n",
      "Requirement already satisfied: click in /home/saif/miniconda3/envs/env/lib/python3.10/site-packages (from nltk) (8.2.1)\n",
      "Requirement already satisfied: joblib in /home/saif/miniconda3/envs/env/lib/python3.10/site-packages (from nltk) (1.5.2)\n",
      "Requirement already satisfied: regex>=2021.8.3 in /home/saif/miniconda3/envs/env/lib/python3.10/site-packages (from nltk) (2025.7.34)\n",
      "Requirement already satisfied: tqdm in /home/saif/miniconda3/envs/env/lib/python3.10/site-packages (from nltk) (4.67.1)\n"
     ]
    }
   ],
   "source": [
    "!pip install nltk"
   ]
  },
  {
   "cell_type": "code",
   "execution_count": 36,
   "id": "e1740988",
   "metadata": {},
   "outputs": [],
   "source": [
    "import nltk"
   ]
  },
  {
   "cell_type": "code",
   "execution_count": 37,
   "id": "8298c501",
   "metadata": {},
   "outputs": [],
   "source": [
    "from nltk.tokenize import sent_tokenize"
   ]
  },
  {
   "cell_type": "code",
   "execution_count": 38,
   "id": "db6edd7f",
   "metadata": {},
   "outputs": [
    {
     "name": "stderr",
     "output_type": "stream",
     "text": [
      "[nltk_data] Downloading package punkt_tab to /home/saif/nltk_data...\n",
      "[nltk_data]   Package punkt_tab is already up-to-date!\n"
     ]
    },
    {
     "data": {
      "text/plain": [
       "True"
      ]
     },
     "execution_count": 38,
     "metadata": {},
     "output_type": "execute_result"
    }
   ],
   "source": [
    "import nltk\n",
    "nltk.download('punkt_tab')\n"
   ]
  },
  {
   "cell_type": "code",
   "execution_count": 39,
   "id": "09a1e276",
   "metadata": {},
   "outputs": [
    {
     "data": {
      "text/plain": [
       "['My name is Saiful.',\n",
       " 'I have completed my graduation from east west university.',\n",
       " \"I am pursing Master's of science from brac university.\",\n",
       " 'Along with my studies I have been working as Machine Learning Engineer and AI application developer at a Biotech company.']"
      ]
     },
     "execution_count": 39,
     "metadata": {},
     "output_type": "execute_result"
    }
   ],
   "source": [
    "sent_tokenize(corpus)"
   ]
  },
  {
   "cell_type": "code",
   "execution_count": 40,
   "id": "48450848",
   "metadata": {},
   "outputs": [],
   "source": [
    "documents = sent_tokenize(corpus)"
   ]
  },
  {
   "cell_type": "code",
   "execution_count": 41,
   "id": "52bdfb66",
   "metadata": {},
   "outputs": [
    {
     "data": {
      "text/plain": [
       "list"
      ]
     },
     "execution_count": 41,
     "metadata": {},
     "output_type": "execute_result"
    }
   ],
   "source": [
    "type(documents)"
   ]
  },
  {
   "cell_type": "code",
   "execution_count": 42,
   "id": "05fcaf1b",
   "metadata": {},
   "outputs": [
    {
     "name": "stdout",
     "output_type": "stream",
     "text": [
      "My name is Saiful.\n",
      "I have completed my graduation from east west university.\n",
      "I am pursing Master's of science from brac university.\n",
      "Along with my studies I have been working as Machine Learning Engineer and AI application developer at a Biotech company.\n"
     ]
    }
   ],
   "source": [
    "for sentence in documents:\n",
    "    print(sentence)"
   ]
  },
  {
   "cell_type": "code",
   "execution_count": 43,
   "id": "a4670cff",
   "metadata": {},
   "outputs": [],
   "source": [
    "## Tokenization\n",
    "## Paragraph -->> words\n",
    "## sentence -->> words"
   ]
  },
  {
   "cell_type": "code",
   "execution_count": 44,
   "id": "9a16c0cb",
   "metadata": {},
   "outputs": [],
   "source": [
    "from nltk.tokenize import word_tokenize"
   ]
  },
  {
   "cell_type": "code",
   "execution_count": 45,
   "id": "aec7387e",
   "metadata": {},
   "outputs": [
    {
     "data": {
      "text/plain": [
       "['My',\n",
       " 'name',\n",
       " 'is',\n",
       " 'Saiful',\n",
       " '.',\n",
       " 'I',\n",
       " 'have',\n",
       " 'completed',\n",
       " 'my',\n",
       " 'graduation',\n",
       " 'from',\n",
       " 'east',\n",
       " 'west',\n",
       " 'university',\n",
       " '.',\n",
       " 'I',\n",
       " 'am',\n",
       " 'pursing',\n",
       " 'Master',\n",
       " \"'s\",\n",
       " 'of',\n",
       " 'science',\n",
       " 'from',\n",
       " 'brac',\n",
       " 'university',\n",
       " '.',\n",
       " 'Along',\n",
       " 'with',\n",
       " 'my',\n",
       " 'studies',\n",
       " 'I',\n",
       " 'have',\n",
       " 'been',\n",
       " 'working',\n",
       " 'as',\n",
       " 'Machine',\n",
       " 'Learning',\n",
       " 'Engineer',\n",
       " 'and',\n",
       " 'AI',\n",
       " 'application',\n",
       " 'developer',\n",
       " 'at',\n",
       " 'a',\n",
       " 'Biotech',\n",
       " 'company',\n",
       " '.']"
      ]
     },
     "execution_count": 45,
     "metadata": {},
     "output_type": "execute_result"
    }
   ],
   "source": [
    "word_tokenize(corpus)"
   ]
  },
  {
   "cell_type": "code",
   "execution_count": 46,
   "id": "af504b83",
   "metadata": {},
   "outputs": [
    {
     "ename": "NameError",
     "evalue": "name 'wordpunct_tokenize' is not defined",
     "output_type": "error",
     "traceback": [
      "\u001b[0;31m---------------------------------------------------------------------------\u001b[0m",
      "\u001b[0;31mNameError\u001b[0m                                 Traceback (most recent call last)",
      "Cell \u001b[0;32mIn[46], line 1\u001b[0m\n\u001b[0;32m----> 1\u001b[0m \u001b[43mwordpunct_tokenize\u001b[49m(corpus)\n",
      "\u001b[0;31mNameError\u001b[0m: name 'wordpunct_tokenize' is not defined"
     ]
    }
   ],
   "source": [
    "wordpunct_tokenize(corpus)"
   ]
  },
  {
   "cell_type": "code",
   "execution_count": 47,
   "id": "d0c78d27",
   "metadata": {},
   "outputs": [],
   "source": [
    "from nltk.tokenize import wordpunct_tokenize"
   ]
  },
  {
   "cell_type": "code",
   "execution_count": 48,
   "id": "8f9be9d4",
   "metadata": {},
   "outputs": [
    {
     "data": {
      "text/plain": [
       "['My',\n",
       " 'name',\n",
       " 'is',\n",
       " 'Saiful',\n",
       " '.',\n",
       " 'I',\n",
       " 'have',\n",
       " 'completed',\n",
       " 'my',\n",
       " 'graduation',\n",
       " 'from',\n",
       " 'east',\n",
       " 'west',\n",
       " 'university',\n",
       " '.',\n",
       " 'I',\n",
       " 'am',\n",
       " 'pursing',\n",
       " 'Master',\n",
       " \"'\",\n",
       " 's',\n",
       " 'of',\n",
       " 'science',\n",
       " 'from',\n",
       " 'brac',\n",
       " 'university',\n",
       " '.',\n",
       " 'Along',\n",
       " 'with',\n",
       " 'my',\n",
       " 'studies',\n",
       " 'I',\n",
       " 'have',\n",
       " 'been',\n",
       " 'working',\n",
       " 'as',\n",
       " 'Machine',\n",
       " 'Learning',\n",
       " 'Engineer',\n",
       " 'and',\n",
       " 'AI',\n",
       " 'application',\n",
       " 'developer',\n",
       " 'at',\n",
       " 'a',\n",
       " 'Biotech',\n",
       " 'company',\n",
       " '.']"
      ]
     },
     "execution_count": 48,
     "metadata": {},
     "output_type": "execute_result"
    }
   ],
   "source": [
    "wordpunct_tokenize(corpus)"
   ]
  },
  {
   "cell_type": "code",
   "execution_count": 49,
   "id": "db014b31",
   "metadata": {},
   "outputs": [],
   "source": [
    "from nltk.tokenize import TreebankWordTokenizer"
   ]
  },
  {
   "cell_type": "code",
   "execution_count": 54,
   "id": "c3067b04",
   "metadata": {},
   "outputs": [],
   "source": [
    "tokernizer = TreebankWordTokenizer()"
   ]
  },
  {
   "cell_type": "code",
   "execution_count": 55,
   "id": "15a683ba",
   "metadata": {},
   "outputs": [
    {
     "data": {
      "text/plain": [
       "['My',\n",
       " 'name',\n",
       " 'is',\n",
       " 'Saiful.',\n",
       " 'I',\n",
       " 'have',\n",
       " 'completed',\n",
       " 'my',\n",
       " 'graduation',\n",
       " 'from',\n",
       " 'east',\n",
       " 'west',\n",
       " 'university.',\n",
       " 'I',\n",
       " 'am',\n",
       " 'pursing',\n",
       " 'Master',\n",
       " \"'s\",\n",
       " 'of',\n",
       " 'science',\n",
       " 'from',\n",
       " 'brac',\n",
       " 'university.',\n",
       " 'Along',\n",
       " 'with',\n",
       " 'my',\n",
       " 'studies',\n",
       " 'I',\n",
       " 'have',\n",
       " 'been',\n",
       " 'working',\n",
       " 'as',\n",
       " 'Machine',\n",
       " 'Learning',\n",
       " 'Engineer',\n",
       " 'and',\n",
       " 'AI',\n",
       " 'application',\n",
       " 'developer',\n",
       " 'at',\n",
       " 'a',\n",
       " 'Biotech',\n",
       " 'company',\n",
       " '.']"
      ]
     },
     "execution_count": 55,
     "metadata": {},
     "output_type": "execute_result"
    }
   ],
   "source": [
    "tokernizer.tokenize(corpus)"
   ]
  },
  {
   "cell_type": "code",
   "execution_count": null,
   "id": "2537330c",
   "metadata": {},
   "outputs": [],
   "source": [
    " "
   ]
  }
 ],
 "metadata": {
  "kernelspec": {
   "display_name": "env",
   "language": "python",
   "name": "python3"
  },
  "language_info": {
   "codemirror_mode": {
    "name": "ipython",
    "version": 3
   },
   "file_extension": ".py",
   "mimetype": "text/x-python",
   "name": "python",
   "nbconvert_exporter": "python",
   "pygments_lexer": "ipython3",
   "version": "3.10.0"
  }
 },
 "nbformat": 4,
 "nbformat_minor": 5
}
