{
 "cells": [
  {
   "cell_type": "code",
   "execution_count": 1,
   "id": "aa6c9c83",
   "metadata": {},
   "outputs": [],
   "source": [
    "import torch"
   ]
  },
  {
   "cell_type": "code",
   "execution_count": 3,
   "id": "454770e5",
   "metadata": {},
   "outputs": [],
   "source": [
    "import torch.nn as nn\n",
    "import torchvision\n",
    "import torchvision.transforms as transforms"
   ]
  },
  {
   "cell_type": "code",
   "execution_count": 4,
   "id": "b5f642dc",
   "metadata": {},
   "outputs": [],
   "source": [
    "device = torch.device('cuda' if torch.cuda.is_available() else 'cpu')"
   ]
  },
  {
   "cell_type": "code",
   "execution_count": 13,
   "id": "eab66110",
   "metadata": {},
   "outputs": [],
   "source": [
    "sequence_length = 28\n",
    "input_size = 28\n",
    "hidden_size = 128\n",
    "num_layers = 2\n",
    "num_classes = 10\n",
    "batch_size = 100\n",
    "num_epochs = 2 \n",
    "learning_rate = 0.003"
   ]
  },
  {
   "cell_type": "code",
   "execution_count": 8,
   "id": "c9eb0282",
   "metadata": {},
   "outputs": [],
   "source": [
    "train_dataset = torchvision.datasets.MNIST(root='../../data/',\n",
    "                                           train=True, \n",
    "                                           transform=transforms.ToTensor(),\n",
    "                                           download=True)"
   ]
  },
  {
   "cell_type": "code",
   "execution_count": 10,
   "id": "0bb2aaf3",
   "metadata": {},
   "outputs": [],
   "source": [
    "test_dataset = torchvision.datasets.MNIST(root='../../data/',train=False,transform=transforms.ToTensor())"
   ]
  },
  {
   "cell_type": "code",
   "execution_count": 11,
   "id": "e57d6ee1",
   "metadata": {},
   "outputs": [],
   "source": [
    "train_loader = torch.utils.data.DataLoader(dataset=train_dataset,batch_size=batch_size,shuffle=True)"
   ]
  },
  {
   "cell_type": "code",
   "execution_count": 12,
   "id": "d10f8158",
   "metadata": {},
   "outputs": [],
   "source": [
    "test_loader = torch.utils.data.DataLoader(dataset=test_dataset,batch_size=batch_size,shuffle=False)"
   ]
  },
  {
   "cell_type": "code",
   "execution_count": 15,
   "id": "306ac6fa",
   "metadata": {},
   "outputs": [],
   "source": [
    "class BiRNN(nn.Module):\n",
    "    def __init__(self,input_size,hidden_size,num_layers,num_classes):\n",
    "        super(BiRNN,self).__init__()\n",
    "        self.hidden_size = hidden_size\n",
    "        self.num_layers = num_layers\n",
    "        self.lstm = nn.LSTM(input_size,hidden_size,num_layers,batch_first=True,bidirectional=True)\n",
    "        self.fc = nn.Linear(hidden_size*2,num_classes)\n",
    "\n",
    "    def forward(self,x):\n",
    "        h0 = torch.zeros(self.num_layers*2,x.size(0),self.hidden_size).to(device)\n",
    "        c0 = torch.zeros(self.num_layers*2,x.size(0),self.hidden_size).to(device)\n",
    "\n",
    "        out, _ = self.lstm(x,(h0,c0))\n",
    "        out = self.fc(out[:,-1,:])\n",
    "        return out"
   ]
  },
  {
   "cell_type": "code",
   "execution_count": 16,
   "id": "d0d484dd",
   "metadata": {},
   "outputs": [],
   "source": [
    "model = BiRNN(input_size,hidden_size,num_layers,num_classes).to(device)"
   ]
  },
  {
   "cell_type": "code",
   "execution_count": 17,
   "id": "b7983e45",
   "metadata": {},
   "outputs": [],
   "source": [
    "criterion = nn.CrossEntropyLoss()\n",
    "optimizer = torch.optim.Adam(model.parameters(),lr = learning_rate)\n"
   ]
  },
  {
   "cell_type": "code",
   "execution_count": 19,
   "id": "66ccfa25",
   "metadata": {},
   "outputs": [
    {
     "name": "stdout",
     "output_type": "stream",
     "text": [
      "Epoch [1/2],Step [100/600],Loss: 0.2045\n",
      "Epoch [1/2],Step [200/600],Loss: 0.1975\n",
      "Epoch [1/2],Step [300/600],Loss: 0.1241\n",
      "Epoch [1/2],Step [400/600],Loss: 0.1420\n",
      "Epoch [1/2],Step [500/600],Loss: 0.1063\n",
      "Epoch [1/2],Step [600/600],Loss: 0.0688\n",
      "Epoch [2/2],Step [100/600],Loss: 0.0455\n",
      "Epoch [2/2],Step [200/600],Loss: 0.1050\n",
      "Epoch [2/2],Step [300/600],Loss: 0.0116\n",
      "Epoch [2/2],Step [400/600],Loss: 0.0941\n",
      "Epoch [2/2],Step [500/600],Loss: 0.0602\n",
      "Epoch [2/2],Step [600/600],Loss: 0.0369\n"
     ]
    }
   ],
   "source": [
    "total_step = len(train_loader)\n",
    "for epoch in range(num_epochs):\n",
    "    for i, (images,labels) in enumerate(train_loader):\n",
    "        images = images.reshape(-1,sequence_length,input_size).to(device)\n",
    "        labels = labels.to(device)\n",
    "\n",
    "        outputs = model(images)\n",
    "        loss = criterion(outputs,labels)\n",
    "        \n",
    "        optimizer.zero_grad()\n",
    "        loss.backward()\n",
    "        optimizer.step()\n",
    "\n",
    "        if(i+1) %100 == 0:\n",
    "            print('Epoch [{}/{}],Step [{}/{}],Loss: {:.4f}'.format(epoch+1,num_epochs,i+1,total_step,loss.item()))\n"
   ]
  },
  {
   "cell_type": "code",
   "execution_count": 20,
   "id": "d719fb56",
   "metadata": {},
   "outputs": [
    {
     "name": "stdout",
     "output_type": "stream",
     "text": [
      "Test Accuracy of the model on the 1000 test images: 97.5\n"
     ]
    }
   ],
   "source": [
    "with torch.no_grad():\n",
    "    correct = 0\n",
    "    total = 0\n",
    "    for images, labels in test_loader:\n",
    "        images = images.reshape(-1,sequence_length,input_size).to(device)\n",
    "        labels = labels.to(device)\n",
    "        \n",
    "        outputs = model(images)\n",
    "        _, predicted = torch.max(outputs.data,1)\n",
    "        total += labels.size(0)\n",
    "        correct+= (predicted==labels).sum().item()\n",
    "\n",
    "    print('Test Accuracy of the model on the 1000 test images: {}'.format(100* correct/total))\n",
    "    "
   ]
  },
  {
   "cell_type": "code",
   "execution_count": 21,
   "id": "2edf432f",
   "metadata": {},
   "outputs": [],
   "source": [
    "torch.save(model.state_dict(),'model_BiRNN.ckpt')"
   ]
  },
  {
   "cell_type": "code",
   "execution_count": null,
   "id": "6546993b",
   "metadata": {},
   "outputs": [],
   "source": []
  }
 ],
 "metadata": {
  "kernelspec": {
   "display_name": "torch_cpu",
   "language": "python",
   "name": "python3"
  },
  "language_info": {
   "codemirror_mode": {
    "name": "ipython",
    "version": 3
   },
   "file_extension": ".py",
   "mimetype": "text/x-python",
   "name": "python",
   "nbconvert_exporter": "python",
   "pygments_lexer": "ipython3",
   "version": "3.10.18"
  }
 },
 "nbformat": 4,
 "nbformat_minor": 5
}
