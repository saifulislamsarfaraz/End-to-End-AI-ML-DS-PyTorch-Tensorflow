{
 "cells": [
  {
   "cell_type": "code",
   "execution_count": 1,
   "id": "30156602",
   "metadata": {},
   "outputs": [],
   "source": [
    "import torch \n",
    "import torch.nn as nn\n",
    "import numpy as np\n",
    "from torch.nn.utils import clip_grad_norm_\n",
    "from data_utils import Dictionary, Corpus"
   ]
  },
  {
   "cell_type": "code",
   "execution_count": 2,
   "id": "821ecc67",
   "metadata": {},
   "outputs": [],
   "source": [
    "device = torch.device('cuda' if torch.cuda.is_available() else 'cpu')"
   ]
  },
  {
   "cell_type": "code",
   "execution_count": 3,
   "id": "a68b1a3b",
   "metadata": {},
   "outputs": [],
   "source": [
    "embed_size = 128\n",
    "hidden_size = 1024\n",
    "num_layers = 1\n",
    "num_epochs = 5\n",
    "num_samples = 1000\n",
    "batch_size = 20\n",
    "seq_length = 30\n",
    "learning_rate = 0.001"
   ]
  },
  {
   "cell_type": "code",
   "execution_count": 4,
   "id": "5574e682",
   "metadata": {},
   "outputs": [],
   "source": [
    "corpus = Corpus()\n",
    "ids = corpus.get_data('train.txt', batch_size)\n",
    "vocab_size = len(corpus.dictionary)\n",
    "num_batches = ids.size(1) // seq_length"
   ]
  },
  {
   "cell_type": "code",
   "execution_count": 5,
   "id": "2db625b9",
   "metadata": {},
   "outputs": [],
   "source": [
    "# RNN based Language Model\n",
    "class RNNLM(nn.Module):\n",
    "    def __init__(self,vocab_size,embed_size,hidden_size,num_layers):\n",
    "        super(RNNLM,self).__init__()\n",
    "        self.embed = nn.Embedding(vocab_size,embed_size)\n",
    "        self.lstm = nn.LSTM(embed_size,hidden_size,num_layers,batch_first=True)\n",
    "        self.linear = nn.Linear(hidden_size,vocab_size)\n",
    "\n",
    "    def forward(self,x,h):\n",
    "        x = self.embed(x)\n",
    "        out,(h,c) = self.lstm(x,h)\n",
    "\n",
    "        out = out.reshape(out.size(0)*out.size(1),out.size(2))\n",
    "\n",
    "        out = self.linear(out)\n",
    "\n",
    "        return out,(h,c)"
   ]
  },
  {
   "cell_type": "code",
   "execution_count": 6,
   "id": "98c04015",
   "metadata": {},
   "outputs": [],
   "source": [
    "model = RNNLM(vocab_size,embed_size,hidden_size,num_layers).to(device)"
   ]
  },
  {
   "cell_type": "code",
   "execution_count": 7,
   "id": "ff0db4ee",
   "metadata": {},
   "outputs": [],
   "source": [
    "criterion = nn.CrossEntropyLoss()"
   ]
  },
  {
   "cell_type": "code",
   "execution_count": 8,
   "id": "eeb41a29",
   "metadata": {},
   "outputs": [],
   "source": [
    "optimizer = torch.optim.Adam(model.parameters(),lr= learning_rate)"
   ]
  },
  {
   "cell_type": "code",
   "execution_count": 13,
   "id": "478a2360",
   "metadata": {},
   "outputs": [],
   "source": [
    "def detach(states):\n",
    "    return [state.detach() for state in states]"
   ]
  },
  {
   "cell_type": "code",
   "execution_count": 15,
   "id": "42ab1bd1",
   "metadata": {},
   "outputs": [
    {
     "name": "stdout",
     "output_type": "stream",
     "text": [
      "Epoch [1/5], Step[0/1549], Loss: 9.2151, Perplexity: 10048.06\n",
      "Epoch [1/5], Step[100/1549], Loss: 6.1868, Perplexity: 486.28\n",
      "Epoch [1/5], Step[200/1549], Loss: 6.0978, Perplexity: 444.89\n",
      "Epoch [1/5], Step[300/1549], Loss: 5.9599, Perplexity: 387.57\n",
      "Epoch [1/5], Step[400/1549], Loss: 5.8276, Perplexity: 339.54\n",
      "Epoch [1/5], Step[500/1549], Loss: 5.3327, Perplexity: 207.00\n",
      "Epoch [1/5], Step[600/1549], Loss: 5.3179, Perplexity: 203.95\n",
      "Epoch [1/5], Step[700/1549], Loss: 5.5536, Perplexity: 258.16\n",
      "Epoch [1/5], Step[800/1549], Loss: 5.3092, Perplexity: 202.18\n",
      "Epoch [1/5], Step[900/1549], Loss: 5.2297, Perplexity: 186.73\n",
      "Epoch [1/5], Step[1000/1549], Loss: 5.3019, Perplexity: 200.72\n",
      "Epoch [1/5], Step[1100/1549], Loss: 5.4530, Perplexity: 233.45\n",
      "Epoch [1/5], Step[1200/1549], Loss: 5.2585, Perplexity: 192.20\n",
      "Epoch [1/5], Step[1300/1549], Loss: 5.2498, Perplexity: 190.52\n",
      "Epoch [1/5], Step[1400/1549], Loss: 4.9909, Perplexity: 147.07\n",
      "Epoch [1/5], Step[1500/1549], Loss: 5.2929, Perplexity: 198.91\n",
      "Epoch [2/5], Step[0/1549], Loss: 5.5655, Perplexity: 261.26\n",
      "Epoch [2/5], Step[100/1549], Loss: 4.7282, Perplexity: 113.09\n",
      "Epoch [2/5], Step[200/1549], Loss: 4.8734, Perplexity: 130.76\n",
      "Epoch [2/5], Step[300/1549], Loss: 4.8395, Perplexity: 126.40\n",
      "Epoch [2/5], Step[400/1549], Loss: 4.7540, Perplexity: 116.05\n",
      "Epoch [2/5], Step[500/1549], Loss: 4.3214, Perplexity: 75.29\n",
      "Epoch [2/5], Step[600/1549], Loss: 4.5995, Perplexity: 99.43\n",
      "Epoch [2/5], Step[700/1549], Loss: 4.5829, Perplexity: 97.80\n",
      "Epoch [2/5], Step[800/1549], Loss: 4.6212, Perplexity: 101.61\n",
      "Epoch [2/5], Step[900/1549], Loss: 4.4419, Perplexity: 84.94\n",
      "Epoch [2/5], Step[1000/1549], Loss: 4.5357, Perplexity: 93.29\n",
      "Epoch [2/5], Step[1100/1549], Loss: 4.7335, Perplexity: 113.70\n",
      "Epoch [2/5], Step[1200/1549], Loss: 4.5912, Perplexity: 98.61\n",
      "Epoch [2/5], Step[1300/1549], Loss: 4.4519, Perplexity: 85.79\n",
      "Epoch [2/5], Step[1400/1549], Loss: 4.1991, Perplexity: 66.62\n",
      "Epoch [2/5], Step[1500/1549], Loss: 4.5192, Perplexity: 91.76\n",
      "Epoch [3/5], Step[0/1549], Loss: 4.7110, Perplexity: 111.16\n",
      "Epoch [3/5], Step[100/1549], Loss: 4.0967, Perplexity: 60.14\n",
      "Epoch [3/5], Step[200/1549], Loss: 4.2493, Perplexity: 70.06\n",
      "Epoch [3/5], Step[300/1549], Loss: 4.1090, Perplexity: 60.88\n",
      "Epoch [3/5], Step[400/1549], Loss: 4.0942, Perplexity: 59.99\n",
      "Epoch [3/5], Step[500/1549], Loss: 3.6952, Perplexity: 40.25\n",
      "Epoch [3/5], Step[600/1549], Loss: 4.0289, Perplexity: 56.20\n",
      "Epoch [3/5], Step[700/1549], Loss: 3.9734, Perplexity: 53.17\n",
      "Epoch [3/5], Step[800/1549], Loss: 4.0667, Perplexity: 58.37\n",
      "Epoch [3/5], Step[900/1549], Loss: 3.8270, Perplexity: 45.93\n",
      "Epoch [3/5], Step[1000/1549], Loss: 3.9529, Perplexity: 52.09\n",
      "Epoch [3/5], Step[1100/1549], Loss: 4.0989, Perplexity: 60.27\n",
      "Epoch [3/5], Step[1200/1549], Loss: 3.9901, Perplexity: 54.06\n",
      "Epoch [3/5], Step[1300/1549], Loss: 3.7529, Perplexity: 42.64\n",
      "Epoch [3/5], Step[1400/1549], Loss: 3.5523, Perplexity: 34.89\n",
      "Epoch [3/5], Step[1500/1549], Loss: 3.8797, Perplexity: 48.41\n",
      "Epoch [4/5], Step[0/1549], Loss: 3.8537, Perplexity: 47.17\n",
      "Epoch [4/5], Step[100/1549], Loss: 3.5917, Perplexity: 36.30\n",
      "Epoch [4/5], Step[200/1549], Loss: 3.7330, Perplexity: 41.80\n",
      "Epoch [4/5], Step[300/1549], Loss: 3.5125, Perplexity: 33.53\n",
      "Epoch [4/5], Step[400/1549], Loss: 3.6044, Perplexity: 36.76\n",
      "Epoch [4/5], Step[500/1549], Loss: 3.1986, Perplexity: 24.50\n",
      "Epoch [4/5], Step[600/1549], Loss: 3.5382, Perplexity: 34.40\n",
      "Epoch [4/5], Step[700/1549], Loss: 3.4448, Perplexity: 31.34\n",
      "Epoch [4/5], Step[800/1549], Loss: 3.5783, Perplexity: 35.81\n",
      "Epoch [4/5], Step[900/1549], Loss: 3.2826, Perplexity: 26.65\n",
      "Epoch [4/5], Step[1000/1549], Loss: 3.4438, Perplexity: 31.30\n",
      "Epoch [4/5], Step[1100/1549], Loss: 3.5472, Perplexity: 34.71\n",
      "Epoch [4/5], Step[1200/1549], Loss: 3.4948, Perplexity: 32.94\n",
      "Epoch [4/5], Step[1300/1549], Loss: 3.1691, Perplexity: 23.79\n",
      "Epoch [4/5], Step[1400/1549], Loss: 2.9952, Perplexity: 19.99\n",
      "Epoch [4/5], Step[1500/1549], Loss: 3.3281, Perplexity: 27.88\n",
      "Epoch [5/5], Step[0/1549], Loss: 3.2762, Perplexity: 26.48\n",
      "Epoch [5/5], Step[100/1549], Loss: 3.1248, Perplexity: 22.76\n",
      "Epoch [5/5], Step[200/1549], Loss: 3.2500, Perplexity: 25.79\n",
      "Epoch [5/5], Step[300/1549], Loss: 3.0665, Perplexity: 21.47\n",
      "Epoch [5/5], Step[400/1549], Loss: 3.2244, Perplexity: 25.14\n",
      "Epoch [5/5], Step[500/1549], Loss: 2.7643, Perplexity: 15.87\n",
      "Epoch [5/5], Step[600/1549], Loss: 3.2118, Perplexity: 24.82\n",
      "Epoch [5/5], Step[700/1549], Loss: 3.0522, Perplexity: 21.16\n",
      "Epoch [5/5], Step[800/1549], Loss: 3.2015, Perplexity: 24.57\n",
      "Epoch [5/5], Step[900/1549], Loss: 2.8650, Perplexity: 17.55\n",
      "Epoch [5/5], Step[1000/1549], Loss: 3.0336, Perplexity: 20.77\n",
      "Epoch [5/5], Step[1100/1549], Loss: 3.1098, Perplexity: 22.42\n",
      "Epoch [5/5], Step[1200/1549], Loss: 3.0914, Perplexity: 22.01\n",
      "Epoch [5/5], Step[1300/1549], Loss: 2.7409, Perplexity: 15.50\n",
      "Epoch [5/5], Step[1400/1549], Loss: 2.5767, Perplexity: 13.15\n",
      "Epoch [5/5], Step[1500/1549], Loss: 2.9164, Perplexity: 18.47\n"
     ]
    }
   ],
   "source": [
    "for epoch in range(num_epochs):\n",
    "    # Set initial hidden and cell states\n",
    "    states = (torch.zeros(num_layers, batch_size, hidden_size).to(device),\n",
    "              torch.zeros(num_layers, batch_size, hidden_size).to(device))\n",
    "    \n",
    "    for i in range(0, ids.size(1) - seq_length, seq_length):\n",
    "        # Get mini-batch inputs and targets\n",
    "        inputs = ids[:, i:i+seq_length].to(device)\n",
    "        targets = ids[:, (i+1):(i+1)+seq_length].to(device)\n",
    "        \n",
    "        # Forward pass\n",
    "        states = detach(states)\n",
    "        outputs, states = model(inputs, states)\n",
    "        loss = criterion(outputs, targets.reshape(-1))\n",
    "        \n",
    "        # Backward and optimize\n",
    "        optimizer.zero_grad()\n",
    "        loss.backward()\n",
    "        clip_grad_norm_(model.parameters(), 0.5)\n",
    "        optimizer.step()\n",
    "\n",
    "        step = (i+1) // seq_length\n",
    "        if step % 100 == 0:\n",
    "            print ('Epoch [{}/{}], Step[{}/{}], Loss: {:.4f}, Perplexity: {:5.2f}'\n",
    "                   .format(epoch+1, num_epochs, step, num_batches, loss.item(), np.exp(loss.item())))"
   ]
  },
  {
   "cell_type": "code",
   "execution_count": 16,
   "id": "a81c4f94",
   "metadata": {},
   "outputs": [
    {
     "name": "stdout",
     "output_type": "stream",
     "text": [
      "Sampled [100/1000] words and save to sample.txt\n",
      "Sampled [200/1000] words and save to sample.txt\n",
      "Sampled [300/1000] words and save to sample.txt\n",
      "Sampled [400/1000] words and save to sample.txt\n",
      "Sampled [500/1000] words and save to sample.txt\n",
      "Sampled [600/1000] words and save to sample.txt\n",
      "Sampled [700/1000] words and save to sample.txt\n",
      "Sampled [800/1000] words and save to sample.txt\n",
      "Sampled [900/1000] words and save to sample.txt\n",
      "Sampled [1000/1000] words and save to sample.txt\n"
     ]
    }
   ],
   "source": [
    "with torch.no_grad():\n",
    "    with open('sample.txt', 'w') as f:\n",
    "        # Set intial hidden ane cell states\n",
    "        state = (torch.zeros(num_layers, 1, hidden_size).to(device),\n",
    "                 torch.zeros(num_layers, 1, hidden_size).to(device))\n",
    "\n",
    "        # Select one word id randomly\n",
    "        prob = torch.ones(vocab_size)\n",
    "        input = torch.multinomial(prob, num_samples=1).unsqueeze(1).to(device)\n",
    "\n",
    "        for i in range(num_samples):\n",
    "            # Forward propagate RNN \n",
    "            output, state = model(input, state)\n",
    "\n",
    "            # Sample a word id\n",
    "            prob = output.exp()\n",
    "            word_id = torch.multinomial(prob, num_samples=1).item()\n",
    "\n",
    "            # Fill input with sampled word id for the next time step\n",
    "            input.fill_(word_id)\n",
    "\n",
    "            # File write\n",
    "            word = corpus.dictionary.idx2word[word_id]\n",
    "            word = '\\n' if word == '<eos>' else word + ' '\n",
    "            f.write(word)\n",
    "\n",
    "            if (i+1) % 100 == 0:\n",
    "                print('Sampled [{}/{}] words and save to {}'.format(i+1, num_samples, 'sample.txt'))"
   ]
  },
  {
   "cell_type": "code",
   "execution_count": 17,
   "id": "d4c1a955",
   "metadata": {},
   "outputs": [],
   "source": [
    "torch.save(model.state_dict(), 'model_language.ckpt')"
   ]
  },
  {
   "cell_type": "code",
   "execution_count": null,
   "id": "b7ebbadb",
   "metadata": {},
   "outputs": [],
   "source": []
  }
 ],
 "metadata": {
  "kernelspec": {
   "display_name": "torch_cpu",
   "language": "python",
   "name": "python3"
  },
  "language_info": {
   "codemirror_mode": {
    "name": "ipython",
    "version": 3
   },
   "file_extension": ".py",
   "mimetype": "text/x-python",
   "name": "python",
   "nbconvert_exporter": "python",
   "pygments_lexer": "ipython3",
   "version": "3.10.18"
  }
 },
 "nbformat": 4,
 "nbformat_minor": 5
}
