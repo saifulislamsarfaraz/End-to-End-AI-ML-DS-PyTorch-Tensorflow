{
 "cells": [
  {
   "cell_type": "code",
   "execution_count": 40,
   "id": "d6831188",
   "metadata": {},
   "outputs": [],
   "source": [
    "import torch\n",
    "import torch.nn as nn\n",
    "import torchvision\n",
    "import torchvision.transforms as transforms"
   ]
  },
  {
   "cell_type": "code",
   "execution_count": 41,
   "id": "80739b9c",
   "metadata": {},
   "outputs": [],
   "source": [
    "device = torch.device('coda:0' if torch.cuda.is_available() else 'cpu')"
   ]
  },
  {
   "cell_type": "code",
   "execution_count": 42,
   "id": "de4e6133",
   "metadata": {},
   "outputs": [],
   "source": [
    "num_epochs = 5\n",
    "num_classes = 10\n",
    "batch_size = 100\n",
    "learning_rate = 0.001"
   ]
  },
  {
   "cell_type": "code",
   "execution_count": 43,
   "id": "d6e9f4d2",
   "metadata": {},
   "outputs": [],
   "source": [
    "train_dataset = torchvision.datasets.MNIST(root='../../data/', train = True, transform=transforms.ToTensor(),download=True)\n"
   ]
  },
  {
   "cell_type": "code",
   "execution_count": 44,
   "id": "e56b1d7c",
   "metadata": {},
   "outputs": [],
   "source": [
    "test_dataset = torchvision.datasets.MNIST(root='../../data/',train=False,transform = transforms.ToTensor())"
   ]
  },
  {
   "cell_type": "code",
   "execution_count": 45,
   "id": "4e738af4",
   "metadata": {},
   "outputs": [],
   "source": [
    "train_loader = torch.utils.data.DataLoader(dataset=train_dataset,\n",
    "                                           batch_size=batch_size, \n",
    "                                           shuffle=True)\n",
    "\n",
    "test_loader = torch.utils.data.DataLoader(dataset=test_dataset,\n",
    "                                          batch_size=batch_size, \n",
    "                                          shuffle=False)\n"
   ]
  },
  {
   "cell_type": "code",
   "execution_count": 46,
   "id": "44bd991f",
   "metadata": {},
   "outputs": [],
   "source": [
    "class ConvNet(nn.Module):\n",
    "    def __init__(self, num_classes=10):\n",
    "        super(ConvNet, self).__init__()\n",
    "        self.layer1 = nn.Sequential(\n",
    "            nn.Conv2d(1, 16, kernel_size=5, stride=1, padding=2),\n",
    "            nn.BatchNorm2d(16),\n",
    "            nn.ReLU(),\n",
    "            nn.MaxPool2d(kernel_size=2, stride=2))\n",
    "        self.layer2 = nn.Sequential(\n",
    "            nn.Conv2d(16, 32, kernel_size=5, stride=1, padding=2),\n",
    "            nn.BatchNorm2d(32),\n",
    "            nn.ReLU(),\n",
    "            nn.MaxPool2d(kernel_size=2, stride=2))\n",
    "        self.fc = nn.Linear(7*7*32, num_classes)\n",
    "        \n",
    "    def forward(self, x):\n",
    "        out = self.layer1(x)\n",
    "        out = self.layer2(out)\n",
    "        out = out.reshape(out.size(0), -1)\n",
    "        out = self.fc(out)\n",
    "        return out"
   ]
  },
  {
   "cell_type": "code",
   "execution_count": 47,
   "id": "6daa59e9",
   "metadata": {},
   "outputs": [],
   "source": [
    "model = ConvNet(num_classes).to(device)"
   ]
  },
  {
   "cell_type": "code",
   "execution_count": 48,
   "id": "4c88eb1a",
   "metadata": {},
   "outputs": [],
   "source": [
    "criterion = nn.CrossEntropyLoss()\n",
    "optimizer = torch.optim.Adam(model.parameters(),lr = learning_rate)\n"
   ]
  },
  {
   "cell_type": "code",
   "execution_count": 49,
   "id": "c4ff6dc0",
   "metadata": {},
   "outputs": [],
   "source": [
    "total_step = len(train_loader)"
   ]
  },
  {
   "cell_type": "code",
   "execution_count": 50,
   "id": "1202fc30",
   "metadata": {},
   "outputs": [
    {
     "data": {
      "text/plain": [
       "600"
      ]
     },
     "execution_count": 50,
     "metadata": {},
     "output_type": "execute_result"
    }
   ],
   "source": [
    "total_step"
   ]
  },
  {
   "cell_type": "code",
   "execution_count": 51,
   "id": "be99d88e",
   "metadata": {},
   "outputs": [
    {
     "name": "stdout",
     "output_type": "stream",
     "text": [
      "Epoch [1/5], Step [100/600], Loss: 0.1496\n",
      "Epoch [1/5], Step [200/600], Loss: 0.1739\n",
      "Epoch [1/5], Step [300/600], Loss: 0.1026\n",
      "Epoch [1/5], Step [400/600], Loss: 0.0720\n",
      "Epoch [1/5], Step [500/600], Loss: 0.0153\n",
      "Epoch [1/5], Step [600/600], Loss: 0.0403\n",
      "Epoch [2/5], Step [100/600], Loss: 0.1565\n",
      "Epoch [2/5], Step [200/600], Loss: 0.0620\n",
      "Epoch [2/5], Step [300/600], Loss: 0.0474\n",
      "Epoch [2/5], Step [400/600], Loss: 0.0476\n",
      "Epoch [2/5], Step [500/600], Loss: 0.0385\n",
      "Epoch [2/5], Step [600/600], Loss: 0.0572\n",
      "Epoch [3/5], Step [100/600], Loss: 0.0286\n",
      "Epoch [3/5], Step [200/600], Loss: 0.0088\n",
      "Epoch [3/5], Step [300/600], Loss: 0.0135\n",
      "Epoch [3/5], Step [400/600], Loss: 0.0448\n",
      "Epoch [3/5], Step [500/600], Loss: 0.0265\n",
      "Epoch [3/5], Step [600/600], Loss: 0.0625\n",
      "Epoch [4/5], Step [100/600], Loss: 0.0071\n",
      "Epoch [4/5], Step [200/600], Loss: 0.0050\n",
      "Epoch [4/5], Step [300/600], Loss: 0.0095\n",
      "Epoch [4/5], Step [400/600], Loss: 0.0772\n",
      "Epoch [4/5], Step [500/600], Loss: 0.0027\n",
      "Epoch [4/5], Step [600/600], Loss: 0.0045\n",
      "Epoch [5/5], Step [100/600], Loss: 0.0127\n",
      "Epoch [5/5], Step [200/600], Loss: 0.0296\n",
      "Epoch [5/5], Step [300/600], Loss: 0.0245\n",
      "Epoch [5/5], Step [400/600], Loss: 0.0206\n",
      "Epoch [5/5], Step [500/600], Loss: 0.0194\n",
      "Epoch [5/5], Step [600/600], Loss: 0.0086\n"
     ]
    }
   ],
   "source": [
    "total_step = len(train_loader)\n",
    "for epoch in range(num_epochs):\n",
    "    for i, (images, labels) in enumerate(train_loader):\n",
    "        images = images.to(device)\n",
    "        labels = labels.to(device)\n",
    "        \n",
    "        # Forward pass\n",
    "        outputs = model(images)\n",
    "        loss = criterion(outputs, labels)\n",
    "        \n",
    "        # Backward and optimize\n",
    "        optimizer.zero_grad()\n",
    "        loss.backward()\n",
    "        optimizer.step()\n",
    "        \n",
    "        if (i+1) % 100 == 0:\n",
    "            print ('Epoch [{}/{}], Step [{}/{}], Loss: {:.4f}' \n",
    "                   .format(epoch+1, num_epochs, i+1, total_step, loss.item()))"
   ]
  },
  {
   "cell_type": "code",
   "execution_count": 52,
   "id": "935df60c",
   "metadata": {},
   "outputs": [
    {
     "name": "stdout",
     "output_type": "stream",
     "text": [
      "Test Accuracy of the model on the 10000 test images: 99.11 %\n"
     ]
    }
   ],
   "source": [
    "model.eval()\n",
    "with torch.no_grad():\n",
    "    correct = 0\n",
    "    total = 0\n",
    "    for images, labels in test_loader:\n",
    "        images = images.to(device)\n",
    "        labels = labels.to(device)\n",
    "        outputs = model(images)\n",
    "        _, predicted = torch.max(outputs.data,1)\n",
    "        total += labels.size(0)\n",
    "        correct += (predicted == labels).sum().item()\n",
    "\n",
    "    print('Test Accuracy of the model on the 10000 test images: {} %'.format(100* correct/total))"
   ]
  },
  {
   "cell_type": "code",
   "execution_count": 53,
   "id": "31027797",
   "metadata": {},
   "outputs": [],
   "source": [
    "torch.save(model.state_dict(),'model_cnn.ckpt')"
   ]
  },
  {
   "cell_type": "code",
   "execution_count": null,
   "id": "96cae31b",
   "metadata": {},
   "outputs": [],
   "source": []
  }
 ],
 "metadata": {
  "kernelspec": {
   "display_name": "torch_cpu",
   "language": "python",
   "name": "python3"
  },
  "language_info": {
   "codemirror_mode": {
    "name": "ipython",
    "version": 3
   },
   "file_extension": ".py",
   "mimetype": "text/x-python",
   "name": "python",
   "nbconvert_exporter": "python",
   "pygments_lexer": "ipython3",
   "version": "3.10.18"
  }
 },
 "nbformat": 4,
 "nbformat_minor": 5
}
