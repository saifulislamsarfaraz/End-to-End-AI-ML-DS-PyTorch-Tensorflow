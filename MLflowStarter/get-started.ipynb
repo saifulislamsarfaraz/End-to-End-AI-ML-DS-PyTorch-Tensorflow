{
 "cells": [
  {
   "cell_type": "code",
   "execution_count": 1,
   "id": "c1c45b5b",
   "metadata": {},
   "outputs": [],
   "source": [
    "import mlflow"
   ]
  },
  {
   "cell_type": "code",
   "execution_count": 2,
   "id": "0e5ca5f6",
   "metadata": {},
   "outputs": [],
   "source": [
    "mlflow.set_tracking_uri(\"http://127.0.0.1:5000\")"
   ]
  },
  {
   "cell_type": "code",
   "execution_count": 6,
   "id": "07029f11",
   "metadata": {},
   "outputs": [
    {
     "name": "stdout",
     "output_type": "stream",
     "text": [
      "🏃 View run sincere-steed-904 at: http://127.0.0.1:5000/#/experiments/624870602200245323/runs/e1d44fedb4ae498ab86bd8f029faf70d\n",
      "🧪 View experiment at: http://127.0.0.1:5000/#/experiments/624870602200245323\n"
     ]
    }
   ],
   "source": [
    "mlflow.set_experiment(\"Check localhost connection\")\n",
    "with mlflow.start_run():\n",
    "    mlflow.log_metric(\"Test the metrics\",1)\n",
    "    mlflow.log_metric(\"saiful2\",2)"
   ]
  },
  {
   "cell_type": "code",
   "execution_count": 7,
   "id": "1170b88b",
   "metadata": {},
   "outputs": [
    {
     "name": "stdout",
     "output_type": "stream",
     "text": [
      "🏃 View run monumental-auk-245 at: http://127.0.0.1:5000/#/experiments/624870602200245323/runs/cb98145249d540f2817ed82afff6f863\n",
      "🧪 View experiment at: http://127.0.0.1:5000/#/experiments/624870602200245323\n"
     ]
    }
   ],
   "source": [
    "mlflow.set_experiment(\"Check localhost connection\")\n",
    "with mlflow.start_run():\n",
    "    mlflow.log_metric(\"Test the metrics\",1)\n",
    "    mlflow.log_metric(\"saiful1\",2)"
   ]
  },
  {
   "cell_type": "code",
   "execution_count": null,
   "id": "cad5a35b",
   "metadata": {},
   "outputs": [],
   "source": []
  }
 ],
 "metadata": {
  "kernelspec": {
   "display_name": "Python 3",
   "language": "python",
   "name": "python3"
  },
  "language_info": {
   "codemirror_mode": {
    "name": "ipython",
    "version": 3
   },
   "file_extension": ".py",
   "mimetype": "text/x-python",
   "name": "python",
   "nbconvert_exporter": "python",
   "pygments_lexer": "ipython3",
   "version": "3.10.0"
  }
 },
 "nbformat": 4,
 "nbformat_minor": 5
}
